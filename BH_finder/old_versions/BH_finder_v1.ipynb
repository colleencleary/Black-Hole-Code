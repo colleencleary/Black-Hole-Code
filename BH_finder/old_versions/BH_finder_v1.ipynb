{
 "cells": [
  {
   "cell_type": "code",
   "execution_count": 1,
   "metadata": {
    "collapsed": true
   },
   "outputs": [],
   "source": [
    "import pynbody\n",
    "import matplotlib.pylab as plt\n",
    "import numpy as np\n",
    "%matplotlib inline"
   ]
  },
  {
   "cell_type": "code",
   "execution_count": 2,
   "metadata": {
    "collapsed": true
   },
   "outputs": [],
   "source": [
    "s=pynbody.load('/data/scratch/jillian/h148/h148.cosmo50PLK.3072g3HbwK1BH.004096/h148.cosmo50PLK.3072g3HbwK1BH.004096')\n",
    "s.physical_units();\n",
    "h=s.halos()"
   ]
  },
  {
   "cell_type": "code",
   "execution_count": null,
   "metadata": {},
   "outputs": [],
   "source": [
    "grpid=1\n",
    "#pynbody.analysis.halo.center(h[grpid]);\n",
    "pynbody.analysis.angmom.faceon(h[grpid], cen=(0,0,0));\n",
    "#h[grpid].s['tform'].convert_units('Gyr')"
   ]
  },
  {
   "cell_type": "code",
   "execution_count": null,
   "metadata": {},
   "outputs": [],
   "source": [
    "#BH=s.star[pynbody.filt.BandPass('tform','-15 Gyr','0 Gyr')]\n",
    "BH=pynbody.snapshot.IndexedSubSnap(s.star, pynbody.filt.BandPass('tform','-15 Gyr','0 Gyr'))\n",
    "BH_pos=BH['pos']\n",
    "nBH=len(BH['iord'])"
   ]
  },
  {
   "cell_type": "code",
   "execution_count": null,
   "metadata": {},
   "outputs": [],
   "source": []
  },
  {
   "cell_type": "code",
   "execution_count": null,
   "metadata": {
    "collapsed": true
   },
   "outputs": [],
   "source": []
  },
  {
   "cell_type": "code",
   "execution_count": null,
   "metadata": {
    "collapsed": true
   },
   "outputs": [],
   "source": []
  },
  {
   "cell_type": "code",
   "execution_count": null,
   "metadata": {
    "collapsed": true
   },
   "outputs": [],
   "source": [
    "w=100\n",
    "attribute=\"tform\""
   ]
  },
  {
   "cell_type": "code",
   "execution_count": null,
   "metadata": {},
   "outputs": [],
   "source": [
    "pynbody.plot.image(h[grpid].s,qty=\"tform\",cmap=\"Greys\", width=w, log=False)\n",
    "plt.plot(np.array((BH[np.where(BH['amiga.grp']==grpid)]['pos'])).T[0],np.array((BH[np.where(BH['amiga.grp']==grpid)]['pos'])).T[1],'r+')\n",
    "plt.xlim(-w/2,w/2)\n",
    "plt.ylim(-w/2,w/2)\n",
    "plt.title('h148_h%s_%s_w%s'%(grpid, attribute, w))\n",
    "plt.savefig('plots/h148/h%s/h148_h%s_%s_w%s.png'%(grpid, grpid, attribute, w))"
   ]
  },
  {
   "cell_type": "code",
   "execution_count": null,
   "metadata": {},
   "outputs": [],
   "source": [
    "pynbody.plot.image(h[grpid].s,qty=\"tform_scaled\",cmap=\"PRGn\", width=w, log=False)\n",
    "plt.plot(np.array((BH[np.where(BH['amiga.grp']==grpid)]['pos'])).T[0],np.array((BH[np.where(BH['amiga.grp']==grpid)]['pos'])).T[1],'r+')\n",
    "plt.xlim(-w/2,w/2)\n",
    "plt.ylim(-w/2,w/2)\n",
    "plt.title('h148_h%s_%s_scaled_w%s'%(grpid, attribute, w))\n",
    "plt.savefig('plots/h148/h%s/h148_h%s_%s_scaled_w%s.png'%(grpid, grpid, attribute, w))"
   ]
  },
  {
   "cell_type": "code",
   "execution_count": null,
   "metadata": {
    "collapsed": true
   },
   "outputs": [],
   "source": []
  },
  {
   "cell_type": "code",
   "execution_count": null,
   "metadata": {
    "collapsed": true
   },
   "outputs": [],
   "source": [
    "pynbody.plot.image(h[grpid].s,qty='tform_scaled',width=w,cmap=\"PRGn\", log=False);\n",
    "plt.plot(np.array((BH[np.where(BH['amiga.grp']==grpid)]['pos'])).T[0],np.array((BH[np.where(BH['amiga.grp']==grpid)]['pos'])).T[1],'r+')\n",
    "plt.xlim(-w/2,w/2)\n",
    "plt.ylim(-w/2,w/2)\n",
    "plt.title('h148_h%s_%s_w%s'%(grpid, attribute, w))\n",
    "#plt.savefig('/h%sh%s_tform_w%s_scaled.png'%(grpid,w))"
   ]
  },
  {
   "cell_type": "code",
   "execution_count": null,
   "metadata": {},
   "outputs": [],
   "source": [
    "len(set(s.star['amiga.grp']))"
   ]
  },
  {
   "cell_type": "code",
   "execution_count": null,
   "metadata": {},
   "outputs": [],
   "source": [
    "h.loadable_keys()"
   ]
  },
  {
   "cell_type": "code",
   "execution_count": null,
   "metadata": {
    "collapsed": true
   },
   "outputs": [],
   "source": [
    "from sklearn.preprocessing import scale"
   ]
  },
  {
   "cell_type": "code",
   "execution_count": null,
   "metadata": {
    "collapsed": true
   },
   "outputs": [],
   "source": [
    "tform_array=scale(s.star['tform'])\n",
    "s.star['tform_scaled']=tform_array;"
   ]
  },
  {
   "cell_type": "code",
   "execution_count": null,
   "metadata": {
    "collapsed": true
   },
   "outputs": [],
   "source": []
  },
  {
   "cell_type": "code",
   "execution_count": null,
   "metadata": {},
   "outputs": [],
   "source": [
    "BH['amiga.grp']"
   ]
  },
  {
   "cell_type": "code",
   "execution_count": null,
   "metadata": {
    "collapsed": true
   },
   "outputs": [],
   "source": [
    "pynbody.plot.image(h[grpid].s,qty=\"tform\",cmap=\"Greys\", log=False, width=w);\n",
    "plt.plot(np.array((BH[np.where(BH['amiga.grp']==grpid)]['pos'])).T[0],np.array((BH[np.where(BH['amiga.grp']==grpid)]['pos'])).T[1],'r+');"
   ]
  },
  {
   "cell_type": "code",
   "execution_count": null,
   "metadata": {
    "collapsed": true
   },
   "outputs": [],
   "source": [
    "len(set(s.star['amiga.grp']))"
   ]
  },
  {
   "cell_type": "code",
   "execution_count": null,
   "metadata": {
    "collapsed": true
   },
   "outputs": [],
   "source": [
    "np.unique(s.star['amiga.grp'])\n"
   ]
  },
  {
   "cell_type": "code",
   "execution_count": null,
   "metadata": {},
   "outputs": [],
   "source": [
    "pynbody.plot.image(h[grpid].s,qty=\"tform\",cmap=\"Greys\", log=False)\n",
    "plt.plot(np.array((BH[np.where(BH['amiga.grp']==grpid)]['pos'])).T[0],np.array((BH[np.where(BH['amiga.grp']==grpid)]['pos'])).T[1],'r+')\n",
    "#plt.xlim(-w/2,w/2)\n",
    "#plt.ylim(-w/2,w/2)\n",
    "plt.title('h148_h%s_%s_wauto'%(grpid, attribute))\n",
    "plt.savefig('plots/h148/h148_h%s_%s_wauto.png'%(grpid, attribute))"
   ]
  },
  {
   "cell_type": "code",
   "execution_count": null,
   "metadata": {},
   "outputs": [],
   "source": [
    "h[1].loadable_keys()"
   ]
  },
  {
   "cell_type": "code",
   "execution_count": null,
   "metadata": {},
   "outputs": [],
   "source": [
    "h[1].star.loadable_keys()"
   ]
  },
  {
   "cell_type": "code",
   "execution_count": null,
   "metadata": {
    "collapsed": true
   },
   "outputs": [],
   "source": []
  }
 ],
 "metadata": {
  "kernelspec": {
   "display_name": "Python 2",
   "language": "python",
   "name": "python2"
  },
  "language_info": {
   "codemirror_mode": {
    "name": "ipython",
    "version": 2
   },
   "file_extension": ".py",
   "mimetype": "text/x-python",
   "name": "python",
   "nbconvert_exporter": "python",
   "pygments_lexer": "ipython2",
   "version": "2.7.13"
  }
 },
 "nbformat": 4,
 "nbformat_minor": 2
}
