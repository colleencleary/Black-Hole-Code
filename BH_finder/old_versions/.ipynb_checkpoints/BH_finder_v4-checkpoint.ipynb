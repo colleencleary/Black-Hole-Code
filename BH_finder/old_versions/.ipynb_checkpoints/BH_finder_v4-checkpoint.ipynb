{
 "cells": [
  {
   "cell_type": "code",
   "execution_count": 1,
   "metadata": {
    "collapsed": true
   },
   "outputs": [],
   "source": [
    "import pynbody\n",
    "import matplotlib.pylab as plt\n",
    "import numpy as np\n",
    "import pandas as pd\n",
    "%matplotlib inline\n",
    "pd.set_option('display.max_columns', None)\n",
    "pd.set_option('display.max_rows', None)"
   ]
  },
  {
   "cell_type": "code",
   "execution_count": 2,
   "metadata": {
    "collapsed": true
   },
   "outputs": [],
   "source": [
    "galaxy_masses=pd.DataFrame()\n",
    "BH_halos=pd.DataFrame()\n",
    "snap_id=0"
   ]
  },
  {
   "cell_type": "code",
   "execution_count": 43,
   "metadata": {
    "collapsed": true
   },
   "outputs": [],
   "source": [
    "def loader(path):\n",
    "    '''returns snapshot and halo'''\n",
    "    snap=pynbody.load(path)\n",
    "    snap.physical_units()\n",
    "    h=snap.halos()\n",
    "    return snap,h\n",
    "\n",
    "def BH_finder(snap):\n",
    "    '''returns subsnap of black holes'''\n",
    "    return snap.star[pynbody.filt.BandPass('tform','-15 Gyr','0 Gyr')]\n",
    "\n",
    "def analysis(halo, view):\n",
    "    '''center snap on halo's center of mass (angmom gives errors if there aren't enough pixels). \n",
    "    view=1 for face on, 2 for side on, anything else will leave it as is'''\n",
    "    if view==1:\n",
    "        pynbody.analysis.angmom.faceon(halo)\n",
    "    elif view==2:\n",
    "        pynbody.analysis.angmom.sideon(halo)\n",
    "    else:\n",
    "        pynbody.analysis.halo.center(halo)\n",
    "        \n",
    "def plot_BH_pos(h, BH, grpid, attribute, snap_id, cmap='Greys', w=100, save=False, view=0):\n",
    "    '''plots position of black holes. Send halo array(h), black hole array(BH), grpid, attribute, and snap_id you want to plot \n",
    "    Optional: width/preferred scope(w) (default=100), colormap(default='Greys'), save(default=False)'''\n",
    "    \n",
    "    pynbody.plot.image(h[grpid].s,qty=attribute,cmap=cmap, width=w, log=False)\n",
    "    plt.plot(np.array((BH[np.where(BH['amiga.grp']==grpid)]['pos'])).T[0],np.array((BH[np.where(BH['amiga.grp']==grpid)]['pos'])).T[1],'r+')\n",
    "    plt.xlim(-w/2,w/2)\n",
    "    plt.ylim(-w/2,w/2)\n",
    "    plt.title('%s_h%s_%s_w%s'%(snap_id, grpid, attribute, w))\n",
    "    if save==True:\n",
    "        plt.savefig('plots/%s/h%s/h148_h%s_%s_w%s.png'%(snap_id, grpid, grpid, attribute, w))\n",
    "    plt.show()\n",
    "\n",
    "def adjust_csv_index(df):\n",
    "    df=df.rename(columns={'Unnamed: 0':'snap'})\n",
    "    df=df.set_index('snap')\n",
    "    \n",
    "def add_mass_columns(hgrpid, grpid, snap_id):\n",
    "    '''returns row with gas, stellar, and total masses for one halo tracked through time'''\n",
    "    df=pd.DataFrame([[hgrpid.g['mass'].sum(), hgrpid.s['mass'].sum(), hgrpid['mass'].sum()]], index=[snap_id], columns=['H[%d] Gas'%(grpid),'H[%d] Star'%(grpid),'H[%d] Total'%(grpid)])\n",
    "    df.units='Msol'\n",
    "    return df\n",
    "    \n",
    "def mass_df(h, BHgrp, snap_id):\n",
    "    df=pd.DataFrame()\n",
    "    for i in BHgrp:\n",
    "        df=pd.concat([df, add_mass_columns(h[i], i, snap_id)], axis=1, join='outer')\n",
    "    df.units='Msol'\n",
    "    return df\n",
    "    \n",
    "def galaxy_df(snap_id,h,BHgrp):\n",
    "    '''snap_id_array[snap_id], h, np.unique(BH['amiga.grp'])'''\n",
    "    galaxy_masses=pd.DataFrame()\n",
    "    for i in snap_id:\n",
    "        vars()['mass_%s'%(i)]=mass_df(h,BHgrp,i)\n",
    "        galaxy_masses=galaxy_masses.append(vars()['mass_%s'%(i)])\n",
    "    return galaxy_masses\n",
    "    if save==True:\n",
    "        galaxy_masses.to_csv('csvdata/%s_galaxy_masses.csv'%(snap_id))        \n",
    "    \n",
    "def plot_SFH(h, grpid, snap_id, ls='dashed', c='k', save=True, mf=False):\n",
    "    '''plots SFH. Send halo array(h[grpid]), linestyle(ls=dashed), color(c=k) grpid, and snapshot you want to plot \n",
    "    Optional:save(default=True)\n",
    "    #examples of iterative SFH:\n",
    "    for i in np.unique(BH['amiga.grp']): #using black hole array\n",
    "        plot_SFH(h,i,snap_id_array[snap_id], mf=False)\n",
    "    for i in np.unique(iords[str(snap_id_array[snap_id])+' halo groups'].dropna()): #using iords array\n",
    "        plot_SFH(h,i,snap_id_array[snap_id], mf=False)'''\n",
    "    plt.clf()\n",
    "    pynbody.plot.sfh(h[grpid].s,linestyle=ls,color=c, massform=mf);\n",
    "    plt.title('%s_h[%s]_SFH'%(snap_id,grpid), y=1.14);\n",
    "    if save==True:\n",
    "        plt.savefig('plots/SFH/%s_h[%s]_SFH.png'%(snap_id, grpid),bbox_inches='tight');\n",
    "\n",
    "def BH_halo_add(snap_id, BH, BH_halos):\n",
    "    '''snap_id_array[snap_id], BH, BH_halos'''\n",
    "    df=pd.DataFrame({'%s halo groups'%(snap_id):BH['amiga.grp'],'%s iords'%(snap_id):BH['iord']})\n",
    "    BH_halos=pd.concat([BH_halos, df], axis=1, join='outer')\n",
    "    return BH_halos\n",
    "\n",
    "def load_snap_csvs(snap_id):\n",
    "    '''snap_id_array[snap_id]. load mass and iord csvs'''\n",
    "    masses=pd.DataFrame()\n",
    "    masses=pd.read_csv('csvdata/%s_galaxy_masses.csv'%(snap_id),index_col='snap')\n",
    "    vars()['snap%s_iords'%(snap_id)]=pd.DataFrame()\n",
    "    vars()['snap%s_iords'%(snap_id)]=pd.read_csv('csvdata/%s_iords.csv'%(snap_id),index_col='snap')\n",
    "    return masses,vars()['snap%s_iords'%(snap_id)]\n",
    "    \n",
    "def get_iords_df(iords, iords_list, masses, save=False):\n",
    "    for i in iords_list:\n",
    "        ind=0\n",
    "        vars()['iord_%s'%(i)]=pd.DataFrame(columns=['gas', 'star', 'total'])\n",
    "        iords_temp=iords[i].dropna()\n",
    "        vars()['iord_%s'%(i)]['halo']=iords[i]\n",
    "        for j in iords_temp.index:\n",
    "            if pd.notnull(iords.at[j,i]):\n",
    "                temp=[masses.at[j,'H[%s] Gas'%(int(iords.at[j,i]))],masses.at[j,'H[%s] Star'%(int(iords.at[j,i]))],masses.at[j,'H[%s] Total'%(int(iords.at[j,i]))]]\n",
    "            if (pd.notnull(temp)).any():\n",
    "                vars()['iord_%s'%(i)].loc[int(iords_temp.index[ind]),['gas','star','total']]=temp\n",
    "            else: continue\n",
    "            ind=ind+1\n",
    "            vars()['iord_%s'%(i)]=vars()['iord_%s'%(i)].fillna(0)\n",
    "            if save==True:\n",
    "                vars()['iord_%s'%(i)].to_csv('csvdata/iord_%s.csv'%(i))\n",
    "                \n",
    "def iord_mass_plot(iord_df,iords_list,save=False):\n",
    "    for i in range(0,len(iords_list)):\n",
    "        x=iords_list[i]\n",
    "        plt.hist(range(0,len(iord_df)), weights=iord_df['total'], bins=len(iord_df),width=.85, alpha=.3, histtype='bar', label='Total', color='#666666',rwidth=1, align='mid')\n",
    "        plt.hist([range(0,len(iord_df)),range(0,len(iord_df))], weights=[iord_df['gas'],iord_df['star']],bins=len(iord_df),width=.85, alpha=1, histtype='bar', stacked=True, label=['Gas','Stars'],fill=True, color=['#44AA99','#88CCEE'],rwidth=1,align='mid')\n",
    "        plt.title('Masses of Halo Containing iord %s'%(x));\n",
    "        plt.ylabel('Mass [M$_\\odot$]', fontsize='large');\n",
    "        plt.legend(loc='best')\n",
    "        plt.yscale('log')\n",
    "        if save==True:\n",
    "            plt.savefig('plots/galaxy_masses/iord_%s_masses.png'%(x),bbox_inches='tight')\n"
   ]
  },
  {
   "cell_type": "code",
   "execution_count": 4,
   "metadata": {
    "collapsed": true
   },
   "outputs": [],
   "source": [
    "#array of last four digits for each snap\n",
    "snap_id_array=['0139','0225','0275','0640','0974','1024','1269','1280','1408','1740','2048','2088','2432','2688','2816','2944','3072','3195','3200','3328','3456','3584','3606','3712','3840','3968','4096']"
   ]
  },
  {
   "cell_type": "code",
   "execution_count": 5,
   "metadata": {},
   "outputs": [
    {
     "data": {
      "text/plain": [
       "'4096'"
      ]
     },
     "execution_count": 5,
     "metadata": {},
     "output_type": "execute_result"
    }
   ],
   "source": [
    "#snap id index (negative values start from end)\n",
    "snap_id=snap_id-1\n",
    "snap_id_array[snap_id]"
   ]
  },
  {
   "cell_type": "code",
   "execution_count": 6,
   "metadata": {
    "collapsed": true
   },
   "outputs": [],
   "source": [
    "#set path\n",
    "path='/data/scratch/jillian/h148/h148.cosmo50PLK.3072g3HbwK1BH.00%s/h148.cosmo50PLK.3072g3HbwK1BH.00%s'%(snap_id_array[snap_id],snap_id_array[snap_id])"
   ]
  },
  {
   "cell_type": "code",
   "execution_count": 7,
   "metadata": {
    "collapsed": true
   },
   "outputs": [],
   "source": [
    "#returns snapshot and halos in physical units (takes a couple of minutes)\n",
    "snap,h=loader(path)"
   ]
  },
  {
   "cell_type": "code",
   "execution_count": 38,
   "metadata": {
    "collapsed": true
   },
   "outputs": [],
   "source": [
    "masses,vars()['snap%s_iords'%(snap_id_array[snap_id])]=load_snap_csvs(snap_id_array[snap_id])\n",
    "vars()['snap%s_iords_list'%(snap_id_array[snap_id])]=vars()['snap%s_iords'%(snap_id_array[snap_id])].columns.tolist()\n",
    "for i in vars()['snap%s_iords_list'%(snap_id_array[snap_id])]:\n",
    "    vars()['snap%s_iord_%s'%(snap_id_array[snap_id],i)]=pd.read_csv('csvdata/%s_iord_%s.csv'%(snap_id_array[snap_id],i),index_col='snap')"
   ]
  },
  {
   "cell_type": "code",
   "execution_count": 52,
   "metadata": {},
   "outputs": [
    {
     "data": {
      "image/png": "[encoded data removed]",
      "text/plain": [
       "<matplotlib.figure.Figure at 0x7fe00ceebe90>"
      ]
     },
     "metadata": {},
     "output_type": "display_data"
    }
   ],
   "source": [
    "x=vars()['snap%s_iords_list'%(snap_id_array[snap_id])][15]\n",
    "bins=len(vars()['snap%s_iord_%s'%(snap_id_array[snap_id], x)])\n",
    "\n",
    "trange = [snap.s['tform'].in_units(\"Gyr\").min(), snap.s['tform'].in_units(\"Gyr\").max()]\n",
    "binnorm = 1e-9 * bins / (trange[1] - trange[0])\n",
    "trangefilt = pynbody.filt.And(pynbody.filt.HighPass('tform', str(trange[0]) + ' Gyr'),pynbody.filt.LowPass('tform', str(trange[1]) + ' Gyr'))\n",
    "tforms = snap.s[trangefilt]['tform'].in_units('Gyr')\n",
    "\n",
    "plt.hist(range(0,len(vars()['snap%s_iord_%s'%(snap_id_array[snap_id],i)])), weights=vars()['snap%s_iord_%s'%(snap_id_array[snap_id], x)]['total'], bins=bins,width=.85, alpha=.3, histtype='bar', label='Total', color='#666666',rwidth=1, align='mid')\n",
    "plt.hist([range(0,len(vars()['snap%s_iord_%s'%(snap_id_array[snap_id], x)])),range(0,len(vars()['snap%s_iord_%s'%(snap_id_array[snap_id], x)]))], weights=[vars()['snap%s_iord_%s'%(snap_id_array[snap_id], x)]['gas'],vars()['snap%s_iord_%s'%(snap_id_array[snap_id], x)]['star']],bins=bins,width=.85, alpha=1, histtype='bar', stacked=True, label=['Gas','Stars'],fill=True, color=['#44AA99','#88CCEE'],rwidth=1,align='mid')\n",
    "plt.title('Masses of Halo Containing iord %s'%(x), y=1.14);\n",
    "plt.ylabel('Mass [M$_\\odot$]', fontsize='large');\n",
    "plt.legend(loc='best')\n",
    "plt.yscale('log')\n",
    "\n",
    "x0, x1 = plt.gca().get_xlim()\n",
    "from pynbody.analysis import pkdgrav_cosmo as cosmo\n",
    "c = cosmo.Cosmology(snap)\n",
    "old_axis = plt.gca()\n",
    "\n",
    "if len(plt.gcf().axes)<2:\n",
    "    pz = plt.twiny()\n",
    "    labelzs = np.arange(5, int(snap.properties['z']) - 1, -1)\n",
    "    times = [13.7 * c.Exp2Time(1.0 / (1 + z)) / c.Exp2Time(1) for z in labelzs]\n",
    "    pz.set_xticks(times)\n",
    "    pz.set_xticklabels([str(x) for x in labelzs])\n",
    "    pz.set_xlim(-.5, x1)\n",
    "    pz.set_xlabel('$z$')\n",
    "    plt.sca(old_axis)"
   ]
  },
  {
   "cell_type": "code",
   "execution_count": 55,
   "metadata": {
    "collapsed": true
   },
   "outputs": [],
   "source": []
  },
  {
   "cell_type": "code",
   "execution_count": 57,
   "metadata": {},
   "outputs": [
    {
     "data": {
      "text/plain": [
       "(-1.3000000000000003, 27.300000000000004)"
      ]
     },
     "execution_count": 57,
     "metadata": {},
     "output_type": "execute_result"
    }
   ],
   "source": [
    "x0, x1"
   ]
  },
  {
   "cell_type": "code",
   "execution_count": null,
   "metadata": {
    "collapsed": true
   },
   "outputs": [],
   "source": []
  }
 ],
 "metadata": {
  "kernelspec": {
   "display_name": "Python 2",
   "language": "python",
   "name": "python2"
  },
  "language_info": {
   "codemirror_mode": {
    "name": "ipython",
    "version": 2
   },
   "file_extension": ".py",
   "mimetype": "text/x-python",
   "name": "python",
   "nbconvert_exporter": "python",
   "pygments_lexer": "ipython2",
   "version": "2.7.13"
  }
 },
 "nbformat": 4,
 "nbformat_minor": 2
}
