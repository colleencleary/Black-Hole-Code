{
 "cells": [
  {
   "cell_type": "code",
   "execution_count": 3,
   "metadata": {
    "collapsed": true
   },
   "outputs": [],
   "source": [
    "import pynbody\n",
    "import matplotlib.pylab as plt\n",
    "import numpy as np"
   ]
  },
  {
   "cell_type": "code",
   "execution_count": 4,
   "metadata": {
    "collapsed": true
   },
   "outputs": [],
   "source": [
    "def plot_BH_pos(h, BH, grpid, w, attribute, units, cmap='Greys',save=False, snapshot=148):\n",
    "    '''plots position of black holes \n",
    "    h=snapshot (ie h148), grpid=halo/amiga id, w=width, attribute=property that the color map represents,\n",
    "    units=preferred units of attribute, cmap=colormap name (string) from matplotlib, save=False (set True to save),\n",
    "    snapshot=snapshot id (ie 148)'''\n",
    "    pynbody.analysis.halo.center(h[grpid])\n",
    "    h[grpid].s[attribute].convert_units(units)\n",
    "    pynbody.plot.image(h[grpid].s,qty=attribute,cmap=cmap, width=w, log=False)\n",
    "    plt.plot(np.array((BH[np.where(BH['amiga.grp']==grpid)]['pos'])).T[0],np.array((BH[np.where(BH['amiga.grp']==grpid)]['pos'])).T[1],'r+')\n",
    "    plt.xlim(-w/2,w/2)\n",
    "    plt.ylim(-w/2,w/2)\n",
    "    plt.title('h%s_h%s_%s_w%s'%(snapshot, grpid, attribute, w))\n",
    "    \n",
    "    if save==True:\n",
    "        plt.savefig('h%s_h%s_tform_w%s.png'%(snapshot, grpid, attribute, w))\n",
    "    plt.show()\n",
    "    "
   ]
  },
  {
   "cell_type": "code",
   "execution_count": null,
   "metadata": {
    "collapsed": true
   },
   "outputs": [],
   "source": []
  }
 ],
 "metadata": {
  "kernelspec": {
   "display_name": "Python 2",
   "language": "python",
   "name": "python2"
  },
  "language_info": {
   "codemirror_mode": {
    "name": "ipython",
    "version": 2
   },
   "file_extension": ".py",
   "mimetype": "text/x-python",
   "name": "python",
   "nbconvert_exporter": "python",
   "pygments_lexer": "ipython2",
   "version": "2.7.13"
  }
 },
 "nbformat": 4,
 "nbformat_minor": 2
}
