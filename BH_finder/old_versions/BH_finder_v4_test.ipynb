{
 "cells": [
  {
   "cell_type": "code",
   "execution_count": null,
   "metadata": {
    "collapsed": true
   },
   "outputs": [],
   "source": [
    "import pynbody\n",
    "import matplotlib.pylab as plt\n",
    "import numpy as np\n",
    "import pandas as pd\n",
    "%matplotlib inline\n",
    "pd.set_option('display.max_columns', None)\n",
    "pd.set_option('display.max_rows', None)"
   ]
  },
  {
   "cell_type": "code",
   "execution_count": null,
   "metadata": {
    "collapsed": true
   },
   "outputs": [],
   "source": [
    "#galaxy_masses=pd.DataFrame()\n",
    "#BH_halos=pd.DataFrame()\n",
    "snap_id=0"
   ]
  },
  {
   "cell_type": "code",
   "execution_count": 174,
   "metadata": {},
   "outputs": [],
   "source": [
    "def loader(path):\n",
    "    '''returns snapshot and halo'''\n",
    "    snap=pynbody.load(path)\n",
    "    snap.physical_units()\n",
    "    h=snap.halos()\n",
    "    return snap,h\n",
    "\n",
    "def BH_finder(snap):\n",
    "    '''returns subsnap of black holes'''\n",
    "    return snap.star[pynbody.filt.BandPass('tform','-15 Gyr','0 Gyr')]\n",
    "\n",
    "def analysis(halo, view=0):\n",
    "    '''center snap on halo's center of mass (angmom gives errors if there aren't enough pixels). \n",
    "    view=1 for face on, 2 for side on, anything else will leave it as is'''\n",
    "    if view==1:\n",
    "        pynbody.analysis.angmom.faceon(halo)\n",
    "    elif view==2:\n",
    "        pynbody.analysis.angmom.sideon(halo)\n",
    "    else:\n",
    "        pynbody.analysis.halo.center(halo)\n",
    "        \n",
    "def plot_BH_pos(h, BH, attribute, cmap='Greys', w=100, lc='best',save=False, filename='plots/dg_adjTime/h%s_t%s_w%s.png'):\n",
    "    '''plots position of black holes. Send halo array(h[grpid]), black hole array(BH),attribute \n",
    "    Optional: width/preferred scope(w) (default=100), colormap(default='Greys'), save(default=False)'''\n",
    "    \n",
    "    halo_id=int(np.unique(h['amiga.grp']))\n",
    "    time=h.properties['time'].in_units('Gyr')\n",
    "    \n",
    "    pynbody.plot.image(h,qty=attribute,cmap=cmap, width=w, log=False)\n",
    "    for i in np.where(BH['amiga.grp']==halo_id):\n",
    "        plt.plot(np.array(BH[i]['pos']).T[0],np.array(BH[i]['pos']).T[1],'r+', label=BH[i]['iord'])\n",
    "    plt.xlim(-w/2,w/2)\n",
    "    plt.ylim(-w/2,w/2)\n",
    "    plt.title('Halo %s at %s Gyr'%(halo_id, round(time, 1)))\n",
    "    plt.legend(fancybox=True, loc='lc')\n",
    "    plt.tight_layout()\n",
    "\n",
    "    if save==True:\n",
    "        plt.savefig(filename%(halo_id, round(time, 1), w),bbox_inches='tight', dpi=200)\n",
    "\n",
    "        \n",
    "\n",
    "def adjust_csv_index(df):\n",
    "    df=df.rename(columns={'Unnamed: 0':'snap'})\n",
    "    df=df.set_index('snap')\n",
    "    \n",
    "def add_mass_columns(hgrpid, grpid, snap_id):\n",
    "    '''returns row with gas, stellar, and total masses for one halo tracked through time'''\n",
    "    df=pd.DataFrame([[hgrpid.g['mass'].sum(), hgrpid.s['mass'].sum(), hgrpid['mass'].sum()]], index=[snap_id], columns=['H[%d] Gas'%(grpid),'H[%d] Star'%(grpid),'H[%d] Total'%(grpid)])\n",
    "    df.units='Msol'\n",
    "    return df\n",
    "    \n",
    "def mass_df(h, BHgrp, snap_id):\n",
    "    df=pd.DataFrame()\n",
    "    for i in BHgrp:\n",
    "        df=pd.concat([df, add_mass_columns(h[i], i, snap_id)], axis=1, join='outer')\n",
    "    df.units='Msol'\n",
    "    return df\n",
    "    \n",
    "def galaxy_df(snap_id,h,BHgrp):\n",
    "    '''snap_id_array[snap_id], h, np.unique(BH['amiga.grp'])'''\n",
    "    galaxy_masses=pd.DataFrame()\n",
    "    for i in snap_id:\n",
    "        vars()['mass_%s'%(i)]=mass_df(h,BHgrp,i)\n",
    "        galaxy_masses=galaxy_masses.append(vars()['mass_%s'%(i)])\n",
    "    return galaxy_masses\n",
    "    if save==True:\n",
    "        galaxy_masses.to_csv('csvdata/%s_galaxy_masses.csv'%(snap_id))        \n",
    "    \n",
    "def plot_SFH(h, grpid, snap_id, c='k', save=True, mf=False, filename='plots/SFH/i_%s_SFH.png'): #%s_h[%s]_SFH.png'):\n",
    "    '''plots SFH. Send halo array(h[grpid]), color(c=k) grpid, and snapshot you want to plot \n",
    "    Optional:save(default=True)\n",
    "    #examples of iterative SFH:\n",
    "    for i in np.unique(BH['amiga.grp']): #using black hole array\n",
    "        plot_SFH(h,i,snap_id_array[snap_id], mf=False)\n",
    "    for i in np.unique(iords[str(snap_id_array[snap_id])+' halo groups'].dropna()): #using iords array\n",
    "        plot_SFH(h,i,snap_id_array[snap_id], mf=False)'''\n",
    "    plt.clf()\n",
    "    pynbody.plot.sfh(h[grpid].s,color=c, massform=mf);\n",
    "    plt.title('%s_h[%s]_SFH'%(snap_id,grpid), y=1.14);\n",
    "    if save==True:\n",
    "        plt.savefig(filename,bbox_inches='tight', dpi=200);\n",
    "\n",
    "def BH_halo_add(snap_id, BH, BH_halos):\n",
    "    '''snap_id_array[snap_id], BH, BH_halos'''\n",
    "    df=pd.DataFrame({'%s halo groups'%(snap_id):BH['amiga.grp'],'%s iords'%(snap_id):BH['iord']})\n",
    "    BH_halos=pd.concat([BH_halos, df], axis=1, join='outer')\n",
    "    return BH_halos\n",
    "\n",
    "def load_snap_csvs(snap_id):\n",
    "    '''snap_id_array[snap_id]. load mass and iord csvs'''\n",
    "    #masses=pd.DataFrame()\n",
    "    masses=pd.read_csv('csvdata/galaxy_masses.csv',index_col='snap')\n",
    "    iords=pd.DataFrame()\n",
    "    iords=pd.read_csv('csvdata/iords.csv',index_col='snap')\n",
    "    return masses,iords\n",
    "    \n",
    "def get_iords_df(iords, iords_list, masses, save=False):\n",
    "    for i in iords_list:\n",
    "        ind=0\n",
    "        vars()['iord_%s'%(i)]=pd.DataFrame(columns=['gas', 'star', 'total'])\n",
    "        iords_temp=iords[i].dropna()\n",
    "        vars()['iord_%s'%(i)]['halo']=iords[i]\n",
    "        for j in iords_temp.index:\n",
    "            if pd.notnull(iords.at[j,i]):\n",
    "                temp=[masses.at[j,'H[%s] Gas'%(int(iords.at[j,i]))],masses.at[j,'H[%s] Star'%(int(iords.at[j,i]))],masses.at[j,'H[%s] Total'%(int(iords.at[j,i]))]]\n",
    "            if (pd.notnull(temp)).any():\n",
    "                vars()['iord_%s'%(i)].loc[int(iords_temp.index[ind]),['gas','star','total']]=temp\n",
    "            else: continue\n",
    "            ind=ind+1\n",
    "            vars()['iord_%s'%(i)]=vars()['iord_%s'%(i)].fillna(0)\n",
    "            if save==True:\n",
    "                vars()['iord_%s'%(i)].to_csv('csvdata/iord_%s.csv'%(i))\n",
    "                \n",
    "def iord_mass_plot(iord_df, iord_id, save=False, filename='plots/galaxy_masses/iord_%s_masses.png'):\n",
    "    plt.hist(range(0,len(iord_df)), weights=iord_df['total'], bins=len(iord_df),width=.85, alpha=.3, histtype='bar', label='Total', color='#666666',rwidth=1, align='mid')\n",
    "    plt.hist([range(0,len(iord_df)),range(0,len(iord_df))], weights=[iord_df['gas'],iord_df['star']],bins=len(iord_df),width=.85, alpha=1, histtype='bar', stacked=True, label=['Gas','Stars'],fill=True, color=['#44AA99','#88CCEE'],rwidth=1,align='mid')\n",
    "    plt.title('Masses of Halo Containing iord %s'%(iord_id));\n",
    "    plt.ylabel('Mass [M$_\\odot$]', fontsize='large');\n",
    "    plt.legend(fancybox=True,loc='best')\n",
    "    plt.yscale('log')\n",
    "    if save==True:\n",
    "        plt.savefig(filename%(iord_id),bbox_inches='tight')\n",
    "\n",
    "def iord_gmass_plot(iord_df, time, bins=150, lc='best', htype= 'bar', halo_label=False, save=False, filename='plots/galaxy_masses/iord_%s_masses.png'):\n",
    "    '''send individual iord dataframe, iord_id, timearray(time['time[Gyr]'])'''\n",
    "    plt.clf()\n",
    "    iord_id=iord_df.name\n",
    "    \n",
    "    #plt.hist(time['time[Gyr]'], weights=iord_df['total'], bins=bins, histtype=htype, label='Total', color='k', fill=True, linewidth=.2, alpha=.7);\n",
    "    #plt.hist([time['time[Gyr]'], time['time[Gyr]']], weights=[iord_df['star'], iord_df['gas']], bins=bins, histtype=htype, label=['Stars', 'Gas'], color=['#FFEE33','#1B7837'],  stacked=True, fill=True);\n",
    "    #plt.hist(time['time[Gyr]'], weights=iord_df['BH'], bins=bins, histtype=htype, label='BH', color='#662506', fill=False, linestyle='--');\n",
    "    #plt.hist(time['time[Gyr]'], weights=iord_df['total'], bins=bins, histtype=htype, label='Total', color='k', fill=False, linestyle='--');\n",
    "    plt.plot(time['time[Gyr]'], iord_df['total'], color='k', label='Total', linewidth=1.5)\n",
    "    plt.plot(time['time[Gyr]'], iord_df['gas'], color='#1B7837', linestyle='--', label='Gas', linewidth=.8)\n",
    "    plt.plot(time['time[Gyr]'], iord_df['star'], color='#FFEE33', linestyle='--', label='Stars', linewidth=.8)\n",
    "    plt.plot(time['time[Gyr]'], iord_df['BH'], color='#662506', linestyle='--', label='BH', linewidth=.8)\n",
    "    plt.title('Masses of Halo Containing iord %s'%(iord_id), y=1.14);\n",
    "    plt.ylabel('Mass [M$_\\odot$]', fontsize='large');\n",
    "    plt.xlabel('Time [Gyr]', fontsize='large');\n",
    "    plt.xlim(-.25,14)\n",
    "    plt.legend(fancybox=True,loc=lc)\n",
    "    plt.yscale('log')\n",
    "\n",
    "    x0, x1 = plt.gca().get_xlim()\n",
    "    old_axis = plt.gca()\n",
    "    pz = plt.twiny()\n",
    "    labelz=time_axis['z'][-6:]\n",
    "    times=time_axis['time[Gyr]'][-6:]\n",
    "    pz.set_xticks(times)\n",
    "    pz.set_xticklabels([str(x) for x in labelz])\n",
    "    pz.set_xlim(x0,x1)\n",
    "    pz.set_xlabel('$z$')\n",
    "    plt.sca(old_axis)\n",
    "\n",
    "    if halo_label==True:\n",
    "        prev=0\n",
    "        for t in times:\n",
    "            #if iord_df['halo'].str.contains('[').any():\n",
    "                #iord_df['halo'] = iord_df['halo'].map(lambda x: str(x).lstrip('[').rstrip(']'))\n",
    "            halo=iord_df[iord_df['age']==a]['halo'].item()\n",
    "            if halo!=prev and halo!=0:\n",
    "                plt.text(a, iord_df[iord_df['age']==a]['total'].values*1.1,str('%s'%(int(halo))), color='#666666')\n",
    "                prev=halo\n",
    "            else:continue\n",
    "\n",
    "    plt.tight_layout()\n",
    "    plt.subplots_adjust(top=1)\n",
    "    if save==True:\n",
    "        plt.savefig(filename%(iord_id),bbox_inches='tight', dpi=200)\n",
    "        \n",
    "def iord_bhacc_plot(iord_df, time, bins=300, save=False, filename='plots/accretion_rates/iord_%s_accRates.png'):\n",
    "    '''send individual iord dataframe, time array'''\n",
    "    plt.clf()\n",
    "    iord_id=iord_df.loc[0,'iord']\n",
    "    \n",
    "    plt.hist(iord_df['time'], weights=iord_df['accRate'], bins=bins, histtype='step', color='k', linewidth=.9);\n",
    "    plt.title('BH %s Accretion Rates'%(iord_id), y=1.14);\n",
    "    plt.ylabel('Accretion Rate [M$_\\odot$ yr$^{-1}$]]', fontsize='large');\n",
    "    plt.xlabel('Time [Gyr]', fontsize='large');\n",
    "    plt.xlim(-.25,14)\n",
    "    plt.yscale('log')\n",
    "\n",
    "    x0, x1 = plt.gca().get_xlim()\n",
    "    old_axis = plt.gca()\n",
    "    pz = plt.twiny()\n",
    "    labelz=time_axis['z'][-6:]\n",
    "    times=time_axis['time[Gyr]'][-6:]\n",
    "    pz.set_xticks(times)\n",
    "    pz.set_xticklabels([str(x) for x in labelz])\n",
    "    pz.set_xlim(x0,x1)\n",
    "    pz.set_xlabel('$z$')\n",
    "    plt.sca(old_axis)\n",
    "\n",
    "    plt.tight_layout()\n",
    "    plt.subplots_adjust(top=1)\n",
    "    if save==True:\n",
    "        plt.savefig(filename%(iord_id),bbox_inches='tight', dpi=200)\n",
    "\n",
    "def iord_bhmass_plot(iord_df, time, bins=300, save=False, filename='plots/distance/iord_%s_distance.png'):\n",
    "    '''send individual iord dataframe, time array'''\n",
    "    plt.clf()\n",
    "    iord_id=iord_df.loc[0,'iord']\n",
    "    \n",
    "    plt.hist(iord_df['time'], weights=iord_df['mass'], bins=bins, histtype='step', color='k', linewidth=.9);\n",
    "    plt.title('BH %s Mass'%(iord_id), y=1.14);\n",
    "    plt.ylabel('Mass [M$_\\odot$]', fontsize='large');\n",
    "    plt.xlabel('Time [Gyr]', fontsize='large');\n",
    "    plt.xlim(-.25,14)\n",
    "    #plt.yscale('log')\n",
    "\n",
    "    x0, x1 = plt.gca().get_xlim()\n",
    "    old_axis = plt.gca()\n",
    "    pz = plt.twiny()\n",
    "    labelz=time_axis['z'][-6:]\n",
    "    times=time_axis['time[Gyr]'][-6:]\n",
    "    pz.set_xticks(times)\n",
    "    pz.set_xticklabels([str(x) for x in labelz])\n",
    "    pz.set_xlim(x0,x1)\n",
    "    pz.set_xlabel('$z$')\n",
    "    plt.sca(old_axis)\n",
    "\n",
    "    plt.tight_layout()\n",
    "    plt.subplots_adjust(top=1)\n",
    "    if save==True:\n",
    "        plt.savefig(filename%(iord_id), bbox_inches='tight', dpi=200)\n",
    "        \n",
    "def iord_bhr_plot(iord_df, time, bins=300, save=False, filename='plots/distance/iord_%s_distance.png'):\n",
    "    '''send individual iord dataframe, time array'''\n",
    "    plt.clf()\n",
    "    iord_id=iord_df.loc[0,'iord']\n",
    "    \n",
    "    plt.hist(iord_df['time'], weights=iord_df['r'], bins=bins, histtype='step', color='k', linewidth=.9);\n",
    "    plt.title('BH %s Radial Distance'%(iord_id), y=1.14);\n",
    "    plt.ylabel('R [kpc]', fontsize='large');\n",
    "    plt.xlabel('Time [Gyr]', fontsize='large');\n",
    "    plt.xlim(-.25,14)\n",
    "    plt.yscale('log')\n",
    "\n",
    "    x0, x1 = plt.gca().get_xlim()\n",
    "    old_axis = plt.gca()\n",
    "    pz = plt.twiny()\n",
    "    labelz=time_axis['z'][-6:]\n",
    "    times=time_axis['time[Gyr]'][-6:]\n",
    "    pz.set_xticks(times)\n",
    "    pz.set_xticklabels([str(x) for x in labelz])\n",
    "    pz.set_xlim(x0,x1)\n",
    "    pz.set_xlabel('$z$')\n",
    "    plt.sca(old_axis)\n",
    "\n",
    "    plt.tight_layout()\n",
    "    plt.subplots_adjust(top=1)\n",
    "    if save==True:\n",
    "        plt.savefig(filename%(iord_id),bbox_inches='tight', dpi=200)\n",
    "        \n",
    "def cycle_snap_id_array(snap_id_array,iords_list):\n",
    "    '''loads each snap in snap_id_array and stores values to existing dataframes and saves as csvs(not as variable, so reload csv). Send snap_id_array, time dataframe, iords_list.\n",
    "    Currently set to retrieve time[Gyr], z, BH[r], BH[mass]\n",
    "    WARNING: This is going to be like a half hour wait or so\n",
    "    Note: can send partial arrays'''\n",
    "    time=pd.DataFrame(index=snap_id_array, columns=['time[Gyr]', 'z'])\n",
    "    for j in snap_id_array:\n",
    "        path='/data/scratch/jillian/h148/h148.cosmo50PLK.3072g3HbwK1BH.00%s/h148.cosmo50PLK.3072g3HbwK1BH.00%s'%(j,j)\n",
    "        snap,h=loader(path)\n",
    "        time.loc[j]['time[Gyr]']=snap.properties['time'].in_units('Gyr')\n",
    "        time.loc[j]['z']=snap.properties['z']\n",
    "        time.to_csv('csvdata/time.csv')\n",
    "        BH=BH_finder(snap)\n",
    "        for i in iords_list:\n",
    "            temp=BH[np.where(BH['iord']==int(i))]['mass']\n",
    "            if len(temp)>0:\n",
    "                vars()['iord_%s'%(i)].loc[int(j),'BH']=temp\n",
    "                vars()['iord_%s'%(i)].loc[int(j),'r[kpc]']=BH[np.where(BH['iord']==int(i))]['r']\n",
    "            vars()['iord_%s'%(i)].to_csv('csvdata/iord_%s.csv'%(i), index=False)\n",
    "\n",
    "def get_orbits(iords_list, save=False):\n",
    "    '''read .orbit file and convert to dataframe. long run time!'''\n",
    "    cols=['iord', 'time', 'stepNumber', 'mass','xPos', 'yPos', 'zPos','xVel','yVel','zVel','pot','accRate','delM','FB_E_released','dt','scalefactor']\n",
    "    orbit_file=pd.read_csv('/data/scratch/jillian/h148/h148.cosmo50PLK.3072g3HbwK1BH.orbit', header=None, sep=' ', index_col=False,names=cols)\n",
    "    matches=np.isin(np.array(orbit_file['iord']), np.array(iords_list))\n",
    "    bhorbit=orbit_file[matches]\n",
    "    if save==True:\n",
    "        bhorbit.to_csv('csvdata/bhorbit.csv', index=False)\n",
    "\n",
    "def get_iorbits(iord_id, bhorbit, save=False, filename='csvdata/i%s_orbit.csv'):\n",
    "    '''return orbit dataframe for specified iord. long run time!'''\n",
    "    iord_id=int(iord_id)\n",
    "    mask=np.isin(np.array(bhorbit['iord']), iord_id)\n",
    "    i_orbit=bhorbit[mask]\n",
    "    #mask2=np.isin(temp['stepNumber'], map(int, snap_id_array))\n",
    "    i_orbit.loc[:,'accRate']=(i_orbit['accRate']*1.84793e16)/38759428183.8\n",
    "    i_orbit.loc[:,'time']=(i_orbit['time']*38759428183.8)/10**9\n",
    "    i_orbit.loc[:,'mass']=i_orbit['mass']*1.84793e16\n",
    "    if save==True:\n",
    "        i_orbit.to_csv(filename%(iord_id), index=False)\n",
    "    return i_orbit\n",
    "\n",
    "def getr(i_orbit):\n",
    "    #vars()['i%s_orbit'%(i)]=vars()['i%s_orbit'%(i)].drop('Unnamed: 0.1', axis=1)\n",
    "    combined=np.vstack((i_orbit['xPos'], i_orbit['yPos'], i_orbit['zPos'])).T\n",
    "    r=np.sqrt((combined ** 2).sum(axis=1))\n",
    "    i_orbit['r']=pd.Series(r)\n",
    "    return i_orbit\n",
    "\n",
    "def plot_all(h, grpid, time, iord_data, iord_df, bins=200, save=False, filename='plots/dg_adjTime/i_%s_all.png'):\n",
    "    #from sklearn import preprocessing\n",
    "    from sklearn.preprocessing import normalize\n",
    "    \n",
    "    #h[grpid].s['tform']=normalize(np.arrayh[grpid].s['tform'].reshape(-1, 1))\n",
    "    totalm_norm=normalize(iord_data['total'].values.reshape(-1, 1))\n",
    "    gasm_norm=normalize(iord_data['gas'].values.reshape(-1, 1))\n",
    "    starm_norm=normalize(iord_data['star'].values.reshape(-1, 1))\n",
    "    bhsnapm_norm=normalize(iord_data['BH'].values.reshape(-1, 1))\n",
    "    #accR_norm=normalize(iord_df['accRate'].values.reshape(-1, 1))\n",
    "    #bhm_norm=normalize(iord_df['mass'].values.reshape(-1, 1))\n",
    "    #bhr_norm=normalize(iord_df['r'].values.reshape(-1, 1))\n",
    "    \n",
    "    plt.clf()\n",
    "    iord_id=iord_df.loc[0,'iord']\n",
    "        \n",
    "    #pynbody.plot.sfh(h[grpid].s, massform=False, label='SFR')\n",
    "    plt.plot(time['time[Gyr]'], totalm_norm, label='Total Mass', linewidth=.9)\n",
    "    plt.plot(time['time[Gyr]'], gasm_norm, linestyle='--', label='Gas Mass', linewidth=.8)\n",
    "    plt.plot(time['time[Gyr]'], starm_norm, linestyle='--', label='Star Mass', linewidth=.9)\n",
    "    plt.plot(time['time[Gyr]'], bhsnapm_norm, color='#662506', linestyle='--', label='BH Mass', linewidth=.8)\n",
    "    plt.hist(iord_df['time'], weights=iord_df['accRate'], bins=bins, histtype='step', label='BH Accretion Rate', linewidth=.9, normed=1)\n",
    "    plt.hist(iord_df['time'], weights=iord_df['mass'], bins=bins, histtype='step', label='BH Mass', linewidth=.9, normed=1);\n",
    "    plt.hist(iord_df['time'], weights= iord_df['r'], bins=bins, histtype='step', label='BH Radial Distance', linewidth=.9, normed=1);\n",
    "    \n",
    "    #\n",
    "    #pynbody.plot.sfh(h[grpid].s, label='SFR') \n",
    "    #is made of:\n",
    "    #trange=[h[grpid].s['tform'].in_units(\"Gyr\").min(), h[grpid].s['tform'].in_units(\"Gyr\").max()]\n",
    "    #trangefilt=filt.And(filt.HighPass('tform', str(trange[0]) + ' Gyr'),filt.LowPass('tform', str(trange[1]) + ' Gyr'))\n",
    "    #tforms=h[grpid].s[trangefilt]['tform'].in_units('Gyr')\n",
    "    #weight = simstars[trangefilt]['mass'].in_units('Msol') * binnorm\n",
    "    #plt.hist(tforms, weights=weight, bins=bins, histtype='step', label='SFR')\n",
    "    \n",
    "    plt.xlabel('Time [Gyr]', fontsize='large');\n",
    "   # plt.xlim(-.25,14)\n",
    "    plt.yscale('log')\n",
    "\n",
    "    x0, x1 = plt.gca().get_xlim()\n",
    "    old_axis = plt.gca()\n",
    "    pz = plt.twiny()\n",
    "    labelz=time_axis['z'][-6:]\n",
    "    times=time_axis['time[Gyr]'][-6:]\n",
    "    pz.set_xticks(times)\n",
    "    pz.set_xticklabels([str(x) for x in labelz])\n",
    "    pz.set_xlim(x0,x1)\n",
    "    pz.set_xlabel('$z$')\n",
    "    plt.sca(old_axis)\n",
    "\n",
    "    plt.legend(fancybox=True,)\n",
    "    plt.tight_layout()\n",
    "    plt.subplots_adjust(top=1)\n",
    "    if save==True:\n",
    "        plt.savefig(filename%(iord_id),bbox_inches='tight', dpi=200)\n",
    "        \n",
    "#handy:\n",
    "#for i in iords_list:\n",
    "#    vars()['i_%s_data'%(i)].name=i\n",
    "#    iord_gmass_plot(vars()['i_%s_data'%(i)],time, lc=7, save=True)\n",
    "#    iord_bhacc_plot(vars()['i%s_orbit'%(i)], time, bins=200,save=True)\n",
    "#    iord_bhmass_plot(vars()['i%s_orbit'%(i)], time, bins=200,save=True)\n",
    "#    iord_bhr_plot(vars()['i%s_orbit'%(i)], time, bins=200,save=True)\n",
    "\n",
    "#maybe later?\n",
    "#snap_id=snap_id-1\n",
    "#snap_id_array[snap_id]\n",
    "#path_higherz='/data/scratch/jillian/h148/h148.cosmo50PLK.3072g3HbwK1BH.00%s/h148.cosmo50PLK.3072g3HbwK1BH.00%s'%(snap_id_array[snap_id],snap_id_array[snap_id])\n",
    "#snap_higherz,h_higherz=loader(path_higherz)\n",
    "#mask=np.isin(np.array(snap['iord']), iords_list)\n",
    "#BH_snap=pynbody.snapshot.IndexedSubSnap(snap, np.where(mask))\n",
    "#b=pynbody.bridge.OrderBridge(BH_snap, snap_higherz)\n",
    "#cat=b.fuzzy_match_catalog()\n",
    "\n",
    "#to adjust time:\n",
    "#for i in iords_list:\n",
    "#    vars()['adj_i%s_orbit'%(i)]=pd.read_csv('csvdata/i%s_orbit.csv'%(i))\n",
    "#    vars()['adj_i%s_orbit'%(i)].loc[:,'time']=vars()['adj_i%s_orbit'%(i)]['time']*1.0774702\n",
    "#    vars()['adj_i%s_orbit'%(i)].to_csv('csvdata/adj_i%s_orbit.csv'%(i), index=False)"
   ]
  },
  {
   "cell_type": "code",
   "execution_count": 4,
   "metadata": {
    "collapsed": true
   },
   "outputs": [],
   "source": [
    "#array of last four digits for each snap\n",
    "snap_id_array=['0139','0225','0275','0640','0974','1024','1269','1280','1408','1740','2048','2088','2432','2688','2816','2944','3072','3195','3200','3328','3456','3584','3606','3712','3840','3968','4096']"
   ]
  },
  {
   "cell_type": "code",
   "execution_count": 5,
   "metadata": {},
   "outputs": [
    {
     "data": {
      "text/plain": [
       "'4096'"
      ]
     },
     "execution_count": 5,
     "metadata": {},
     "output_type": "execute_result"
    }
   ],
   "source": [
    "#snap id index (negative values start from end)\n",
    "snap_id=snap_id-1\n",
    "snap_id_array[snap_id]"
   ]
  },
  {
   "cell_type": "code",
   "execution_count": 6,
   "metadata": {
    "collapsed": true
   },
   "outputs": [],
   "source": [
    "masses,iords=load_snap_csvs(snap_id_array[snap_id])\n",
    "iords_list=iords.columns.tolist()\n",
    "iords_list=map(int, iords_list)\n",
    "time=pd.read_csv('csvdata/time.csv', index_col=0)\n",
    "global time_axis\n",
    "time_axis=pd.read_csv('csvdata/time_axis.csv', index_col=0)"
   ]
  },
  {
   "cell_type": "code",
   "execution_count": 7,
   "metadata": {
    "collapsed": true
   },
   "outputs": [],
   "source": [
    "for i in iords_list:\n",
    "    vars()['i_%s_data'%(i)]=pd.read_csv('csvdata/iord_%s.csv'%(i),index_col='snap')\n",
    "    vars()['i%s_orbit'%(i)]=pd.read_csv('csvdata/i%s_orbit.csv'%(i))\n",
    "    vars()['adj_i%s_orbit'%(i)]=pd.read_csv('csvdata/adj_i%s_orbit.csv'%(i))"
   ]
  },
  {
   "cell_type": "code",
   "execution_count": 217,
   "metadata": {
    "collapsed": true
   },
   "outputs": [],
   "source": [
    "#set path\n",
    "path='/data/scratch/jillian/h148/h148.cosmo50PLK.3072g3HbwK1BH.00%s/h148.cosmo50PLK.3072g3HbwK1BH.00%s'%(snap_id_array[snap_id],snap_id_array[snap_id])\n",
    "#test for working at home:\n",
    "#path='/Users/Owner/Black_Hole_Research/old/pynbody_tutorial/testdata/g15784.lr.01024.gz'\n",
    "#returns snapshot and halos in physical units (takes a couple of minutes)\n",
    "snap,h=loader(path)"
   ]
  },
  {
   "cell_type": "code",
   "execution_count": 221,
   "metadata": {
    "collapsed": true
   },
   "outputs": [],
   "source": [
    "BH=BH_finder(snap)\n",
    "BH_arm=BH[pynbody.filt.BandPass('amiga.grp',2,15)]"
   ]
  },
  {
   "cell_type": "code",
   "execution_count": 105,
   "metadata": {},
   "outputs": [
    {
     "data": {
      "image/png": "[encoded data removed]",
      "text/plain": [
       "<matplotlib.figure.Figure at 0x7f6ca9097e50>"
      ]
     },
     "metadata": {},
     "output_type": "display_data"
    }
   ],
   "source": [
    "for i in BH_arm['iord']:\n",
    "    vars()['i_%s_data'%(i)].name=i\n",
    "    for j in BH_arm['amiga.grp']:\n",
    "        plot_SFH(h,j,snap_id_array[snap_id], mf=False, save=True, filename='plots/dg_adjTime/i_%s_SFH.png'%(i))\n",
    "    iord_gmass_plot(vars()['i_%s_data'%(i)],time, lc=7, save=True, filename='plots/dg_adjTime/i_%s_gmass.png')\n",
    "    iord_bhacc_plot(vars()['adj_i%s_orbit'%(i)], time, bins=200,save=True, filename='plots/dg_adjTime/i_%s_bhacc.png')\n",
    "    iord_bhmass_plot(vars()['adj_i%s_orbit'%(i)], time, bins=200,save=True, filename='plots/dg_adjTime/i_%s_bhmass.png')\n",
    "    iord_bhr_plot(vars()['adj_i%s_orbit'%(i)], time, bins=200,save=True, filename='plots/dg_adjTime/i_%s_bhr.png')"
   ]
  },
  {
   "cell_type": "code",
   "execution_count": 237,
   "metadata": {
    "collapsed": true
   },
   "outputs": [],
   "source": [
    "path_higherz='/data/scratch/jillian/h148/h148.cosmo50PLK.3072g3HbwK1BH.00%s/h148.cosmo50PLK.3072g3HbwK1BH.00%s'%(2944,2944)\n",
    "snap_higherz,h_higherz=loader(path_higherz)\n",
    "#BH=BH_finder(snap)"
   ]
  },
  {
   "cell_type": "code",
   "execution_count": 238,
   "metadata": {},
   "outputs": [],
   "source": [
    "halo_id=BH[np.where(BH['iord']==101863883)]['amiga.grp']"
   ]
  },
  {
   "cell_type": "code",
   "execution_count": 239,
   "metadata": {},
   "outputs": [],
   "source": [
    "analysis(h[halo_id],view=1)"
   ]
  },
  {
   "cell_type": "code",
   "execution_count": 251,
   "metadata": {},
   "outputs": [
    {
     "data": {
      "image/png": "[encoded data removed]",
      "text/plain": [
       "<matplotlib.figure.Figure at 0x7f6ca8f78550>"
      ]
     },
     "metadata": {},
     "output_type": "display_data"
    }
   ],
   "source": [
    "plot_BH_pos(h[halo_id].s, BH,'tform', w=20, save=True)"
   ]
  },
  {
   "cell_type": "code",
   "execution_count": 247,
   "metadata": {},
   "outputs": [
    {
     "ename": "RuntimeError",
     "evalue": "Stale reference to start or endpoint",
     "output_type": "error",
     "traceback": [
      "\u001b[0;31m---------------------------------------------------------------------------\u001b[0m",
      "\u001b[0;31mRuntimeError\u001b[0m                              Traceback (most recent call last)",
      "\u001b[0;32m<ipython-input-247-f7fd8d2149b4>\u001b[0m in \u001b[0;36m<module>\u001b[0;34m()\u001b[0m\n\u001b[0;32m----> 1\u001b[0;31m \u001b[0mh1_at_low_z\u001b[0m \u001b[0;34m=\u001b[0m \u001b[0mb\u001b[0m\u001b[0;34m(\u001b[0m\u001b[0mh_higherz\u001b[0m\u001b[0;34m[\u001b[0m\u001b[0;36m4\u001b[0m\u001b[0;34m]\u001b[0m\u001b[0;34m)\u001b[0m\u001b[0;34m\u001b[0m\u001b[0m\n\u001b[0m",
      "\u001b[0;32m/data/home/ccleary/anaconda2/lib/python2.7/site-packages/pynbody/bridge/__init__.pyc\u001b[0m in \u001b[0;36m__call__\u001b[0;34m(self, s)\u001b[0m\n\u001b[1;32m    206\u001b[0m     \u001b[0;32mdef\u001b[0m \u001b[0m__call__\u001b[0m\u001b[0;34m(\u001b[0m\u001b[0mself\u001b[0m\u001b[0;34m,\u001b[0m \u001b[0ms\u001b[0m\u001b[0;34m)\u001b[0m\u001b[0;34m:\u001b[0m\u001b[0;34m\u001b[0m\u001b[0m\n\u001b[1;32m    207\u001b[0m \u001b[0;34m\u001b[0m\u001b[0m\n\u001b[0;32m--> 208\u001b[0;31m         \u001b[0mstart\u001b[0m\u001b[0;34m,\u001b[0m \u001b[0mend\u001b[0m \u001b[0;34m=\u001b[0m \u001b[0mself\u001b[0m\u001b[0;34m.\u001b[0m\u001b[0m_get_ends\u001b[0m\u001b[0;34m(\u001b[0m\u001b[0;34m)\u001b[0m\u001b[0;34m\u001b[0m\u001b[0m\n\u001b[0m\u001b[1;32m    209\u001b[0m \u001b[0;34m\u001b[0m\u001b[0m\n\u001b[1;32m    210\u001b[0m         \u001b[0;32mif\u001b[0m \u001b[0ms\u001b[0m\u001b[0;34m.\u001b[0m\u001b[0mis_descendant\u001b[0m\u001b[0;34m(\u001b[0m\u001b[0mstart\u001b[0m\u001b[0;34m)\u001b[0m\u001b[0;34m:\u001b[0m\u001b[0;34m\u001b[0m\u001b[0m\n",
      "\u001b[0;32m/data/home/ccleary/anaconda2/lib/python2.7/site-packages/pynbody/bridge/__init__.pyc\u001b[0m in \u001b[0;36m_get_ends\u001b[0;34m(self)\u001b[0m\n\u001b[1;32m     57\u001b[0m         \u001b[0mend\u001b[0m \u001b[0;34m=\u001b[0m \u001b[0mself\u001b[0m\u001b[0;34m.\u001b[0m\u001b[0m_end\u001b[0m\u001b[0;34m(\u001b[0m\u001b[0;34m)\u001b[0m\u001b[0;34m\u001b[0m\u001b[0m\n\u001b[1;32m     58\u001b[0m         \u001b[0;32mif\u001b[0m \u001b[0mstart\u001b[0m \u001b[0;32mis\u001b[0m \u001b[0mNone\u001b[0m \u001b[0;32mor\u001b[0m \u001b[0mend\u001b[0m \u001b[0;32mis\u001b[0m \u001b[0mNone\u001b[0m\u001b[0;34m:\u001b[0m\u001b[0;34m\u001b[0m\u001b[0m\n\u001b[0;32m---> 59\u001b[0;31m             \u001b[0;32mraise\u001b[0m \u001b[0mRuntimeError\u001b[0m\u001b[0;34m,\u001b[0m \u001b[0;34m\"Stale reference to start or endpoint\"\u001b[0m\u001b[0;34m\u001b[0m\u001b[0m\n\u001b[0m\u001b[1;32m     60\u001b[0m         \u001b[0;32mreturn\u001b[0m \u001b[0mstart\u001b[0m\u001b[0;34m,\u001b[0m \u001b[0mend\u001b[0m\u001b[0;34m\u001b[0m\u001b[0m\n\u001b[1;32m     61\u001b[0m \u001b[0;34m\u001b[0m\u001b[0m\n",
      "\u001b[0;31mRuntimeError\u001b[0m: Stale reference to start or endpoint"
     ]
    }
   ],
   "source": [
    "h1_at_low_z = b(h_higherz[4])"
   ]
  },
  {
   "cell_type": "code",
   "execution_count": 224,
   "metadata": {
    "collapsed": true
   },
   "outputs": [],
   "source": [
    "b=pynbody.bridge.OrderBridge(snap_3072,snap_higherz)"
   ]
  },
  {
   "cell_type": "code",
   "execution_count": 225,
   "metadata": {},
   "outputs": [],
   "source": [
    "cat=b.fuzzy_match_catalog()"
   ]
  },
  {
   "cell_type": "code",
   "execution_count": 232,
   "metadata": {},
   "outputs": [
    {
     "data": {
      "text/plain": [
       "<SimSnap \"/data/scratch/jillian/h148/h148.cosmo50PLK.3072g3HbwK1BH.002688/h148.cosmo50PLK.3072g3HbwK1BH.002688:halo_1\" len=60710438>"
      ]
     },
     "execution_count": 232,
     "metadata": {},
     "output_type": "execute_result"
    }
   ],
   "source": [
    "snap_3072.halos()[1]"
   ]
  },
  {
   "cell_type": "code",
   "execution_count": 235,
   "metadata": {},
   "outputs": [
    {
     "data": {
      "text/plain": [
       "[[],\n",
       " [(1, 1.0)],\n",
       " [(2, 1.0)],\n",
       " [(3, 1.0)],\n",
       " [(4, 1.0)],\n",
       " [(5, 1.0)],\n",
       " [(6, 1.0)],\n",
       " [(7, 1.0)],\n",
       " [],\n",
       " [(9, 1.0)],\n",
       " [(10, 1.0)],\n",
       " [],\n",
       " [],\n",
       " [(13, 1.0)],\n",
       " [(14, 1.0)],\n",
       " [],\n",
       " [(16, 1.0)],\n",
       " [(17, 1.0)],\n",
       " [(18, 1.0)],\n",
       " [(19, 1.0)],\n",
       " [],\n",
       " [],\n",
       " [(22, 1.0)],\n",
       " [],\n",
       " [(24, 1.0)],\n",
       " [(25, 1.0)],\n",
       " [],\n",
       " [(27, 1.0)],\n",
       " [(28, 1.0)],\n",
       " [],\n",
       " [(30, 1.0)]]"
      ]
     },
     "execution_count": 235,
     "metadata": {},
     "output_type": "execute_result"
    }
   ],
   "source": [
    "cat"
   ]
  },
  {
   "cell_type": "code",
   "execution_count": 222,
   "metadata": {},
   "outputs": [
    {
     "data": {
      "image/png": "[encoded data removed]",
      "text/plain": [
       "<matplotlib.figure.Figure at 0x7f6ca9234ed0>"
      ]
     },
     "metadata": {},
     "output_type": "display_data"
    }
   ],
   "source": [
    "for j in BH_arm['amiga.grp']:\n",
    "        plot_SFH(h,j,snap_id_array[snap_id], mf=False, save=True, filename='plots/dg_adjTime/i_%s_SFH.png'%(i))\n",
    "        plot_SFH(h, grpid, snap_id,"
   ]
  },
  {
   "cell_type": "code",
   "execution_count": 223,
   "metadata": {},
   "outputs": [
    {
     "data": {
      "image/png": "[encoded data removed]",
      "text/plain": [
       "<matplotlib.figure.Figure at 0x7f6ca9243410>"
      ]
     },
     "metadata": {},
     "output_type": "display_data"
    }
   ],
   "source": [
    "for i in np.unique(BH_arm['amiga.grp']): #using black hole array\n",
    "        plot_SFH(h,i,snap_id_array[snap_id], mf=False, save=True, filename='plots/dg_adjTime/i_%s_SFH.png'%(i))"
   ]
  },
  {
   "cell_type": "code",
   "execution_count": null,
   "metadata": {
    "collapsed": true
   },
   "outputs": [],
   "source": []
  }
 ],
 "metadata": {
  "kernelspec": {
   "display_name": "Python 2",
   "language": "python",
   "name": "python2"
  },
  "language_info": {
   "codemirror_mode": {
    "name": "ipython",
    "version": 2
   },
   "file_extension": ".py",
   "mimetype": "text/x-python",
   "name": "python",
   "nbconvert_exporter": "python",
   "pygments_lexer": "ipython2",
   "version": "2.7.13"
  }
 },
 "nbformat": 4,
 "nbformat_minor": 2
}
