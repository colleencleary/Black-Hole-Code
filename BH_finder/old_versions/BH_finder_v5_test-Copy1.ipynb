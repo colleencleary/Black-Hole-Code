{
 "cells": [
  {
   "cell_type": "code",
   "execution_count": 1,
   "metadata": {
    "collapsed": true
   },
   "outputs": [],
   "source": [
    "import pynbody\n",
    "import matplotlib.pylab as plt\n",
    "import numpy as np\n",
    "import pandas as pd\n",
    "%matplotlib inline\n",
    "pd.set_option('display.max_columns', None)\n",
    "pd.set_option('display.max_rows', None)"
   ]
  },
  {
   "cell_type": "code",
   "execution_count": 2,
   "metadata": {
    "collapsed": true
   },
   "outputs": [],
   "source": [
    "#galaxy_masses=pd.DataFrame()\n",
    "#BH_halos=pd.DataFrame()\n",
    "snap_id=0"
   ]
  },
  {
   "cell_type": "code",
   "execution_count": 62,
   "metadata": {
    "collapsed": true
   },
   "outputs": [],
   "source": [
    "def loader(path):\n",
    "    '''returns snapshot and halo'''\n",
    "    snap=pynbody.load(path)\n",
    "    snap.physical_units()\n",
    "    h=snap.halos()\n",
    "    return snap,h\n",
    "\n",
    "def BH_finder(snap):\n",
    "    '''returns subsnap of black holes'''\n",
    "    return snap.star[pynbody.filt.BandPass('tform','-15 Gyr','0 Gyr')]\n",
    "\n",
    "def analysis(halo, view=0):\n",
    "    '''center snap on halo's center of mass (angmom gives errors if there aren't enough pixels). \n",
    "    view=1 for face on, 2 for side on, anything else will leave it as is'''\n",
    "    if view==1:\n",
    "        pynbody.analysis.angmom.faceon(halo)\n",
    "    elif view==2:\n",
    "        pynbody.analysis.angmom.sideon(halo)\n",
    "    else:\n",
    "        pynbody.analysis.halo.center(halo)\n",
    "        \n",
    "def plot_BH_pos(h, BH, attribute, cmap='Greys', w=100, lc='best',save=False, filename='plots/dg_adjTime/h%s_t%s_w%s.png'):\n",
    "    '''plots position of black holes. Send halo array(h[grpid]), black hole array(BH),attribute \n",
    "    Optional: width/preferred scope(w) (default=100), colormap(default='Greys'), save(default=False)'''\n",
    "    \n",
    "    halo_id=int(np.unique(h['amiga.grp']))\n",
    "    time=h.properties['time'].in_units('Gyr')\n",
    "    \n",
    "    pynbody.plot.image(h,qty=attribute,cmap=cmap, width=w, log=False)\n",
    "    plt.plot(np.array((BH[np.where(BH['amiga.grp']==halo_id)]['pos'])).T[0],np.array((BH[np.where(BH['amiga.grp']==halo_id)]['pos'])).T[1],'r+')\n",
    "    for i in np.where(BH['amiga.grp']==halo_id):\n",
    "        plt.annotate('local max', xy=(2, 1), xytext=(3, 1.5))\n",
    "    plt.xlim(-w/2,w/2)\n",
    "    plt.ylim(-w/2,w/2)\n",
    "    plt.title('Halo %s at %s Gyr'%(halo_id, round(time, 2)))\n",
    "    plt.legend(fancybox=True, loc='lc')\n",
    "    plt.tight_layout()\n",
    "\n",
    "    if save==True:\n",
    "        plt.savefig(filename%(halo_id, round(time, 2), w),bbox_inches='tight', dpi=200)\n",
    "\n",
    "        \n",
    "\n",
    "def adjust_csv_index(df):\n",
    "    df=df.rename(columns={'Unnamed: 0':'snap'})\n",
    "    df=df.set_index('snap')\n",
    "    \n",
    "def add_mass_columns(hgrpid, grpid, snap_id):\n",
    "    '''returns row with gas, stellar, and total masses for one halo tracked through time'''\n",
    "    df=pd.DataFrame([[hgrpid.g['mass'].sum(), hgrpid.s['mass'].sum(), hgrpid['mass'].sum()]], index=[snap_id], columns=['H[%d] Gas'%(grpid),'H[%d] Star'%(grpid),'H[%d] Total'%(grpid)])\n",
    "    df.units='Msol'\n",
    "    return df\n",
    "    \n",
    "def mass_df(h, BHgrp, snap_id):\n",
    "    df=pd.DataFrame()\n",
    "    for i in BHgrp:\n",
    "        df=pd.concat([df, add_mass_columns(h[i], i, snap_id)], axis=1, join='outer')\n",
    "    df.units='Msol'\n",
    "    return df\n",
    "    \n",
    "def galaxy_df(snap_id,h,BHgrp):\n",
    "    '''snap_id_array[snap_id], h, np.unique(BH['amiga.grp'])'''\n",
    "    galaxy_masses=pd.DataFrame()\n",
    "    for i in snap_id:\n",
    "        vars()['mass_%s'%(i)]=mass_df(h,BHgrp,i)\n",
    "        galaxy_masses=galaxy_masses.append(vars()['mass_%s'%(i)])\n",
    "    return galaxy_masses\n",
    "    if save==True:\n",
    "        galaxy_masses.to_csv('csvdata/%s_galaxy_masses.csv'%(snap_id))        \n",
    "    \n",
    "def plot_SFH(h, grpid, snap_id, c='k', save=True, mf=False, filename='plots/SFH/i_%s_SFH.png'): #%s_h[%s]_SFH.png'):\n",
    "    '''plots SFH. Send halo array(h[grpid]), color(c=k) grpid, and snapshot you want to plot \n",
    "    Optional:save(default=True)\n",
    "    #examples of iterative SFH:\n",
    "    for i in np.unique(BH['amiga.grp']): #using black hole array\n",
    "        plot_SFH(h,i,snap_id_array[snap_id], mf=False)\n",
    "    for i in np.unique(iords[str(snap_id_array[snap_id])+' halo groups'].dropna()): #using iords array\n",
    "        plot_SFH(h,i,snap_id_array[snap_id], mf=False)'''\n",
    "    plt.clf()\n",
    "    pynbody.plot.sfh(h[grpid].s,color=c, massform=mf);\n",
    "    plt.title('%s_h[%s]_SFH'%(snap_id,grpid), y=1.14);\n",
    "    if save==True:\n",
    "        plt.savefig(filename,bbox_inches='tight', dpi=200);\n",
    "        \n",
    "def SFH(simstars, filename=None, massform=True, subplot=False, trange=False, bins=100, **kwargs):\n",
    "    if subplot:\n",
    "        plt=subplot\n",
    "    trange=[simstars['tform'].in_units(\"Gyr\").min(), simstars['tform'].in_units(\"Gyr\").max()]\n",
    "    binnorm=1e-9*bins/(trange[1]-trange[0])\n",
    "    trangefilt=pynbody.filt.And(pynbody.filt.HighPass('tform', str(trange[0]) + ' Gyr'), pynbody.filt.LowPass('tform', str(trange[1]) + ' Gyr'))\n",
    "    tforms=simstars[trangefilt]['tform'].in_units('Gyr')\n",
    "    weight=simstars[trangefilt]['mass'].in_units('Msol')*binnorm\n",
    "\n",
    "    sfhist, thebins, patches = plt.hist(tforms, weights=weight, bins=bins, histtype='step', **kwargs)\n",
    "    \n",
    "    if not subplot:\n",
    "        plt.xlabel('Time [Gyr]', fontsize='large')\n",
    "        plt.ylabel('SFR [M$_\\odot$ yr$^{-1}$]', fontsize='large')\n",
    "    else:\n",
    "        plt.set_ylim(1.2 * np.min(sfhist), 1.2 * np.max(sfhist))\n",
    "        \n",
    "    return pynbody.array.SimArray(sfhist, \"Msol yr**-1\"), pynbody.array.SimArray(thebins, \"Gyr\")\n",
    "\n",
    "def BH_halo_add(snap_id, BH, BH_halos):\n",
    "    '''snap_id_array[snap_id], BH, BH_halos'''\n",
    "    df=pd.DataFrame({'%s halo groups'%(snap_id):BH['amiga.grp'],'%s iords'%(snap_id):BH['iord']})\n",
    "    BH_halos=pd.concat([BH_halos, df], axis=1, join='outer')\n",
    "    return BH_halos\n",
    "\n",
    "def load_snap_csvs(snap_id):\n",
    "    '''snap_id_array[snap_id]. load mass and iord csvs'''\n",
    "    #masses=pd.DataFrame()\n",
    "    masses=pd.read_csv('csvdata/galaxy_masses.csv',index_col='snap')\n",
    "    iords=pd.DataFrame()\n",
    "    iords=pd.read_csv('csvdata/iords.csv',index_col='snap')\n",
    "    return masses,iords\n",
    "    \n",
    "def get_iords_df(iords, iords_list, masses, save=False):\n",
    "    for i in iords_list:\n",
    "        ind=0\n",
    "        vars()['iord_%s'%(i)]=pd.DataFrame(columns=['gas', 'star', 'total'])\n",
    "        iords_temp=iords[i].dropna()\n",
    "        vars()['iord_%s'%(i)]['halo']=iords[i]\n",
    "        for j in iords_temp.index:\n",
    "            if pd.notnull(iords.at[j,i]):\n",
    "                temp=[masses.at[j,'H[%s] Gas'%(int(iords.at[j,i]))],masses.at[j,'H[%s] Star'%(int(iords.at[j,i]))],masses.at[j,'H[%s] Total'%(int(iords.at[j,i]))]]\n",
    "            if (pd.notnull(temp)).any():\n",
    "                vars()['iord_%s'%(i)].loc[int(iords_temp.index[ind]),['gas','star','total']]=temp\n",
    "            else: continue\n",
    "            ind=ind+1\n",
    "            vars()['iord_%s'%(i)]=vars()['iord_%s'%(i)].fillna(0)\n",
    "            if save==True:\n",
    "                vars()['iord_%s'%(i)].to_csv('csvdata/iord_%s.csv'%(i))\n",
    "                \n",
    "def iord_mass_plot(iord_df, iord_id, save=False, filename='plots/galaxy_masses/iord_%s_masses.png'):\n",
    "    plt.hist(range(0,len(iord_df)), weights=iord_df['total'], bins=len(iord_df),width=.85, alpha=.3, histtype='bar', label='Total', color='#666666',rwidth=1, align='mid')\n",
    "    plt.hist([range(0,len(iord_df)),range(0,len(iord_df))], weights=[iord_df['gas'],iord_df['star']],bins=len(iord_df),width=.85, alpha=1, histtype='bar', stacked=True, label=['Gas','Stars'],fill=True, color=['#44AA99','#88CCEE'],rwidth=1,align='mid')\n",
    "    plt.title('Masses of Halo Containing iord %s'%(iord_id));\n",
    "    plt.ylabel('Mass [M$_\\odot$]', fontsize='large');\n",
    "    plt.legend(fancybox=True,loc='best')\n",
    "    plt.yscale('log')\n",
    "    if save==True:\n",
    "        plt.savefig(filename%(iord_id),bbox_inches='tight')\n",
    "\n",
    "def iord_gmass_plot(iord_df, time, bins=150, lc='best', htype= 'bar', halo_label=False, save=False, filename='plots/galaxy_masses/iord_%s_masses.png'):\n",
    "    '''send individual iord dataframe, iord_id, timearray(time['time[Gyr]'])'''\n",
    "    plt.clf()\n",
    "    iord_id=iord_df.name\n",
    "    \n",
    "    #plt.hist(time['time[Gyr]'], weights=iord_df['total'], bins=bins, histtype=htype, label='Total', color='k', fill=True, linewidth=.2, alpha=.7);\n",
    "    #plt.hist([time['time[Gyr]'], time['time[Gyr]']], weights=[iord_df['star'], iord_df['gas']], bins=bins, histtype=htype, label=['Stars', 'Gas'], color=['#FFEE33','#1B7837'],  stacked=True, fill=True);\n",
    "    #plt.hist(time['time[Gyr]'], weights=iord_df['BH'], bins=bins, histtype=htype, label='BH', color='#662506', fill=False, linestyle='--');\n",
    "    #plt.hist(time['time[Gyr]'], weights=iord_df['total'], bins=bins, histtype=htype, label='Total', color='k', fill=False, linestyle='--');\n",
    "    plt.plot(time['time[Gyr]'], iord_df['total'], color='k', label='Total', linewidth=1.5)\n",
    "    plt.plot(time['time[Gyr]'], iord_df['gas'], color='#1B7837', linestyle='--', label='Gas', linewidth=.8)\n",
    "    plt.plot(time['time[Gyr]'], iord_df['star'], color='#FFEE33', linestyle='--', label='Stars', linewidth=.8)\n",
    "    plt.plot(time['time[Gyr]'], iord_df['BH'], color='#662506', linestyle='--', label='BH', linewidth=.8)\n",
    "    plt.title('Masses of Halo Containing iord %s'%(iord_id), y=1.14);\n",
    "    plt.ylabel('Mass [M$_\\odot$]', fontsize='large');\n",
    "    plt.xlabel('Time [Gyr]', fontsize='large');\n",
    "    plt.xlim(-.25,14)\n",
    "    plt.legend(fancybox=True,loc=lc)\n",
    "    plt.yscale('log')\n",
    "\n",
    "    x0, x1 = plt.gca().get_xlim()\n",
    "    old_axis = plt.gca()\n",
    "    pz = plt.twiny()\n",
    "    labelz=time_axis['z'][-6:]\n",
    "    times=time_axis['time[Gyr]'][-6:]\n",
    "    pz.set_xticks(times)\n",
    "    pz.set_xticklabels([str(x) for x in labelz])\n",
    "    pz.set_xlim(x0,x1)\n",
    "    pz.set_xlabel('$z$')\n",
    "    plt.sca(old_axis)\n",
    "\n",
    "    if halo_label==True:\n",
    "        prev=0\n",
    "        for t in times:\n",
    "            #if iord_df['halo'].str.contains('[').any():\n",
    "                #iord_df['halo'] = iord_df['halo'].map(lambda x: str(x).lstrip('[').rstrip(']'))\n",
    "            halo=iord_df[iord_df['age']==a]['halo'].item()\n",
    "            if halo!=prev and halo!=0:\n",
    "                plt.text(a, iord_df[iord_df['age']==a]['total'].values*1.1,str('%s'%(int(halo))), color='#666666')\n",
    "                prev=halo\n",
    "            else:continue\n",
    "\n",
    "    plt.tight_layout()\n",
    "    plt.subplots_adjust(top=1)\n",
    "    if save==True:\n",
    "        plt.savefig(filename%(iord_id),bbox_inches='tight', dpi=200)\n",
    "        \n",
    "def iord_r_plot(iord_df, time, bins=150, lc='best', htype= 'bar', halo_label=False, save=False, filename='plots/galaxy_masses/iord_%s_masses.png'):\n",
    "    '''send individual iord dataframe, iord_id, timearray(time['time[Gyr]'])'''\n",
    "    plt.clf()\n",
    "    iord_id=iord_df.name\n",
    "    \n",
    "    plt.plot(time['time[Gyr]'], iord_df['r[kpc]'], color='k', linewidth=.9)\n",
    "    #plt.hist(iord_df['time'], weights=iord_df['r'], bins=bins, histtype='step', color='k', linewidth=.9);\n",
    "    plt.title('BH %s Radial Distance'%(iord_id), y=1.14);\n",
    "    plt.ylabel('R [kpc]', fontsize='large'); \n",
    "    plt.xlabel('Time [Gyr]', fontsize='large');\n",
    "    plt.xlim(-.25,14)\n",
    "    #plt.yscale('log')\n",
    "\n",
    "    x0, x1 = plt.gca().get_xlim()\n",
    "    old_axis = plt.gca()\n",
    "    pz = plt.twiny()\n",
    "    labelz=time_axis['z'][-6:]\n",
    "    times=time_axis['time[Gyr]'][-6:]\n",
    "    pz.set_xticks(times)\n",
    "    pz.set_xticklabels([str(x) for x in labelz])\n",
    "    pz.set_xlim(x0,x1)\n",
    "    pz.set_xlabel('$z$')\n",
    "    plt.sca(old_axis)\n",
    "\n",
    "    plt.tight_layout()\n",
    "    plt.subplots_adjust(top=1)\n",
    "    if save==True:\n",
    "        plt.savefig(filename%(iord_id),bbox_inches='tight', dpi=200)\n",
    "        \n",
    "        \n",
    "def iord_bhacc_plot(iord_df, time, bins=300, save=False, filename='plots/accretion_rates/iord_%s_accRates.png'):\n",
    "    '''send individual iord dataframe, time array'''\n",
    "    plt.clf()\n",
    "    iord_id=iord_df.loc[0,'iord']\n",
    "    \n",
    "    plt.plot(iord_df['time'], weights=iord_df['accRate'], color='k', linewidth=.9);\n",
    "    plt.title('BH %s Accretion Rates'%(iord_id), y=1.14);\n",
    "    plt.ylabel('Accretion Rate [M$_\\odot$ yr$^{-1}$]]', fontsize='large');\n",
    "    plt.xlabel('Time [Gyr]', fontsize='large');\n",
    "    plt.xlim(-.25,14)\n",
    "    plt.yscale('log')\n",
    "\n",
    "    x0, x1 = plt.gca().get_xlim()\n",
    "    old_axis = plt.gca()\n",
    "    pz = plt.twiny()\n",
    "    labelz=time_axis['z'][-6:]\n",
    "    times=time_axis['time[Gyr]'][-6:]\n",
    "    pz.set_xticks(times)\n",
    "    pz.set_xticklabels([str(x) for x in labelz])\n",
    "    pz.set_xlim(x0,x1)\n",
    "    pz.set_xlabel('$z$')\n",
    "    plt.sca(old_axis)\n",
    "\n",
    "    plt.tight_layout()\n",
    "    plt.subplots_adjust(top=1)\n",
    "    if save==True:\n",
    "        plt.savefig(filename%(iord_id),bbox_inches='tight', dpi=200)\n",
    "\n",
    "def iord_bhmass_plot(iord_df, time, bins=300, save=False, filename='plots/distance/iord_%s_distance.png'):\n",
    "    '''send individual iord dataframe, time array'''\n",
    "    plt.clf()\n",
    "    iord_id=iord_df.loc[0,'iord']\n",
    "    \n",
    "    plt.hist(iord_df['time'], weights=iord_df['mass'], bins=bins, histtype='step', color='k', linewidth=.9);\n",
    "    plt.title('BH %s Mass'%(iord_id), y=1.14);\n",
    "    plt.ylabel('Mass [M$_\\odot$]', fontsize='large');\n",
    "    plt.xlabel('Time [Gyr]', fontsize='large');\n",
    "    plt.xlim(-.25,14)\n",
    "    #plt.yscale('log')\n",
    "\n",
    "    x0, x1 = plt.gca().get_xlim()\n",
    "    old_axis = plt.gca()\n",
    "    pz = plt.twiny()\n",
    "    labelz=time_axis['z'][-6:]\n",
    "    times=time_axis['time[Gyr]'][-6:]\n",
    "    pz.set_xticks(times)\n",
    "    pz.set_xticklabels([str(x) for x in labelz])\n",
    "    pz.set_xlim(x0,x1)\n",
    "    pz.set_xlabel('$z$')\n",
    "    plt.sca(old_axis)\n",
    "\n",
    "    plt.tight_layout()\n",
    "    plt.subplots_adjust(top=1)\n",
    "    if save==True:\n",
    "        plt.savefig(filename%(iord_id), bbox_inches='tight', dpi=200)\n",
    "        \n",
    "def iord_bhr_plot(iord_df, time, bins=300, save=False, filename='plots/distance/iord_%s_distance.png'):\n",
    "    '''send individual iord dataframe, time array'''\n",
    "    plt.clf()\n",
    "    iord_id=iord_df.loc[0,'iord']\n",
    "    \n",
    "    plt.hist(iord_df['time'], weights=iord_df['r'], bins=bins, histtype='step', color='k', linewidth=.9);\n",
    "    plt.title('BH %s Radial Distance'%(iord_id), y=1.14);\n",
    "    plt.ylabel('R [kpc]', fontsize='large');\n",
    "    plt.xlabel('Time [Gyr]', fontsize='large');\n",
    "    plt.xlim(-.25,14)\n",
    "    plt.yscale('log')\n",
    "\n",
    "    x0, x1 = plt.gca().get_xlim()\n",
    "    old_axis = plt.gca()\n",
    "    pz = plt.twiny()\n",
    "    labelz=time_axis['z'][-6:]\n",
    "    times=time_axis['time[Gyr]'][-6:]\n",
    "    pz.set_xticks(times)\n",
    "    pz.set_xticklabels([str(x) for x in labelz])\n",
    "    pz.set_xlim(x0,x1)\n",
    "    pz.set_xlabel('$z$')\n",
    "    plt.sca(old_axis)\n",
    "\n",
    "    plt.tight_layout()\n",
    "    plt.subplots_adjust(top=1)\n",
    "    if save==True:\n",
    "        plt.savefig(filename%(iord_id),bbox_inches='tight', dpi=200)\n",
    "        \n",
    "def cycle_snap_id_array(snap_id_array,iords_list):\n",
    "    '''loads each snap in snap_id_array and stores values to existing dataframes and saves as csvs(not as variable, so reload csv). Send snap_id_array, time dataframe, iords_list.\n",
    "    Currently set to retrieve time[Gyr], z, BH[r], BH[mass]\n",
    "    WARNING: This is going to be like a half hour wait or so\n",
    "    Note: can send partial arrays'''\n",
    "    time=pd.DataFrame(index=snap_id_array, columns=['time[Gyr]', 'z'])\n",
    "    for j in snap_id_array:\n",
    "        path='/data/scratch/jillian/h148/h148.cosmo50PLK.3072g3HbwK1BH.00%s/h148.cosmo50PLK.3072g3HbwK1BH.00%s'%(j,j)\n",
    "        snap,h=loader(path)\n",
    "        time.loc[j]['time[Gyr]']=snap.properties['time'].in_units('Gyr')\n",
    "        time.loc[j]['z']=snap.properties['z']\n",
    "        time.to_csv('csvdata/time.csv')\n",
    "        BH=BH_finder(snap)\n",
    "        for i in iords_list:\n",
    "            temp=BH[np.where(BH['iord']==int(i))]['mass']\n",
    "            if len(temp)>0:\n",
    "                vars()['iord_%s'%(i)].loc[int(j),'BH']=temp\n",
    "                vars()['iord_%s'%(i)].loc[int(j),'r[kpc]']=BH[np.where(BH['iord']==int(i))]['r']#change to getr\n",
    "            vars()['iord_%s'%(i)].to_csv('csvdata/iord_%s.csv'%(i), index=False)\n",
    "\n",
    "def get_orbits(iords_list, save=False):\n",
    "    '''read .orbit file and convert to dataframe. long run time!'''\n",
    "    cols=['iord', 'time', 'stepNumber', 'mass','xPos', 'yPos', 'zPos','xVel','yVel','zVel','pot','accRate','delM','FB_E_released','dt','scalefactor']\n",
    "    orbit_file=pd.read_csv('/data/scratch/jillian/h148/h148.cosmo50PLK.3072g3HbwK1BH.orbit', header=None, sep=' ', index_col=False,names=cols)\n",
    "    matches=np.isin(np.array(orbit_file['iord']), np.array(iords_list))\n",
    "    bhorbit=orbit_file[matches]\n",
    "    if save==True:\n",
    "        bhorbit.to_csv('csvdata/bhorbit.csv', index=False)\n",
    "    return bhorbit\n",
    "\n",
    "def get_iorbits(iords_arm_list, save=True, filename='csvdata/i%s_orbit.csv'):\n",
    "    '''return orbit dataframe for specified iord. long run time!'''\n",
    "    bhorbit=get_orbits(iords_arm_list)\n",
    "    for i in iords_arm_list:\n",
    "        iord_id=int(i)\n",
    "        mask=np.isin(np.array(bhorbit['iord']), i)\n",
    "        i_orbit=bhorbit[mask]\n",
    "        #mask2=np.isin(temp['stepNumber'], map(int, snap_id_array))\n",
    "        i_orbit.loc[:,'accRate']=(i_orbit['accRate']*1.84793e16)/38759428183.8 #M_sol/yr\n",
    "        i_orbit.loc[:,'time']=(i_orbit['time']*38759428183.8)/10**9 #Gyr\n",
    "        i_orbit.loc[:,'mass']=i_orbit['mass']*1.84793e16 #M_sol\n",
    "        i_orbit.loc[:,'xPos']=i_orbit['xPos']*50000 #kpc\n",
    "        i_orbit.loc[:,'yPos']=i_orbit['yPos']*50000 #kpc\n",
    "        i_orbit.loc[:,'zPos']=i_orbit['zPos']*50000 #kpc\n",
    "        i_orbit=i_orbit.sort_values('time')\n",
    "        if save==True:\n",
    "            i_orbit.to_csv(filename%(iord_id), index=False)\n",
    "        return i_orbit\n",
    "\n",
    "def getr(BH):\n",
    "    #vars()['i%s_orbit'%(i)]=vars()['i%s_orbit'%(i)].drop('Unnamed: 0.1', axis=1)\n",
    "    return np.sqrt((BH['pos']**2).sum(axis=1))\n",
    "\n",
    "def plot_all(h, grpid, time, iord_data, iord_df, bins=200, save=False, filename='plots/dg_adjTime/i_%s_all.png'):\n",
    "    #from sklearn import preprocessing\n",
    "    from sklearn.preprocessing import normalize\n",
    "    \n",
    "    #h[grpid].s['tform']=normalize(np.arrayh[grpid].s['tform'].reshape(-1, 1))\n",
    "    totalm_norm=normalize(iord_data['total'].values.reshape(-1, 1))\n",
    "    gasm_norm=normalize(iord_data['gas'].values.reshape(-1, 1))\n",
    "    starm_norm=normalize(iord_data['star'].values.reshape(-1, 1))\n",
    "    bhsnapm_norm=normalize(iord_data['BH'].values.reshape(-1, 1))\n",
    "    #accR_norm=normalize(iord_df['accRate'].values.reshape(-1, 1))\n",
    "    #bhm_norm=normalize(iord_df['mass'].values.reshape(-1, 1))\n",
    "    #bhr_norm=normalize(iord_df['r'].values.reshape(-1, 1))\n",
    "    \n",
    "    plt.clf()\n",
    "    iord_id=iord_df.loc[0,'iord']\n",
    "        \n",
    "    #pynbody.plot.sfh(h[grpid].s, massform=False, label='SFR')\n",
    "    plt.plot(time['time[Gyr]'], totalm_norm, label='Total Mass', linewidth=.9)\n",
    "    plt.plot(time['time[Gyr]'], gasm_norm, linestyle='--', label='Gas Mass', linewidth=.8)\n",
    "    plt.plot(time['time[Gyr]'], starm_norm, linestyle='--', label='Star Mass', linewidth=.9)\n",
    "    plt.plot(time['time[Gyr]'], bhsnapm_norm, color='#662506', linestyle='--', label='BH Mass', linewidth=.8)\n",
    "    plt.hist(iord_df['time'], weights=iord_df['accRate'], bins=bins, histtype='step', label='BH Accretion Rate', linewidth=.9, normed=1)\n",
    "    plt.hist(iord_df['time'], weights=iord_df['mass'], bins=bins, histtype='step', label='BH Mass', linewidth=.9, normed=1);\n",
    "    plt.hist(iord_df['time'], weights= iord_df['r'], bins=bins, histtype='step', label='BH Radial Distance', linewidth=.9, normed=1);\n",
    "    \n",
    "    #\n",
    "    #pynbody.plot.sfh(h[grpid].s, label='SFR') \n",
    "    #is made of:\n",
    "    #trange=[h[grpid].s['tform'].in_units(\"Gyr\").min(), h[grpid].s['tform'].in_units(\"Gyr\").max()]\n",
    "    #trangefilt=filt.And(filt.HighPass('tform', str(trange[0]) + ' Gyr'),filt.LowPass('tform', str(trange[1]) + ' Gyr'))\n",
    "    #tforms=h[grpid].s[trangefilt]['tform'].in_units('Gyr')\n",
    "    #weight = simstars[trangefilt]['mass'].in_units('Msol') * binnorm\n",
    "    #plt.hist(tforms, weights=weight, bins=bins, histtype='step', label='SFR')\n",
    "    \n",
    "    plt.xlabel('Time [Gyr]', fontsize='large');\n",
    "    # plt.xlim(-.25,14)\n",
    "    plt.yscale('log')\n",
    "\n",
    "    x0, x1 = plt.gca().get_xlim()\n",
    "    old_axis = plt.gca()\n",
    "    pz = plt.twiny()\n",
    "    labelz=time_axis['z'][-6:]\n",
    "    times=time_axis['time[Gyr]'][-6:]\n",
    "    pz.set_xticks(times)\n",
    "    pz.set_xticklabels([str(x) for x in labelz])\n",
    "    pz.set_xlim(x0,x1)\n",
    "    pz.set_xlabel('$z$')\n",
    "    plt.sca(old_axis)\n",
    "\n",
    "    plt.legend(fancybox=True,)\n",
    "    plt.tight_layout()\n",
    "    plt.subplots_adjust(top=1)\n",
    "    if save==True:\n",
    "        plt.savefig(filename%(iord_id),bbox_inches='tight', dpi=200)\n",
    "        \n",
    "        \n",
    "#handy:\n",
    "#for i in iords_list:\n",
    "#    vars()['i_%s_data'%(i)].name=i\n",
    "#    iord_gmass_plot(vars()['i_%s_data'%(i)],time, lc=7, save=True)\n",
    "#    iord_bhacc_plot(vars()['i%s_orbit'%(i)], time, bins=200,save=True)\n",
    "#    iord_bhmass_plot(vars()['i%s_orbit'%(i)], time, bins=200,save=True)\n",
    "#    iord_bhr_plot(vars()['i%s_orbit'%(i)], time, bins=200,save=True)\n",
    "\n",
    "#maybe later?\n",
    "#snap_id=snap_id-1\n",
    "#snap_id_array[snap_id]\n",
    "#path_higherz='/data/scratch/jillian/h148/h148.cosmo50PLK.3072g3HbwK1BH.00%s/h148.cosmo50PLK.3072g3HbwK1BH.00%s'%(snap_id_array[snap_id],snap_id_array[snap_id])\n",
    "#snap_higherz,h_higherz=loader(path_higherz)\n",
    "#mask=np.isin(np.array(snap['iord']), iords_list)\n",
    "#BH_snap=pynbody.snapshot.IndexedSubSnap(snap, np.where(mask))\n",
    "#b=pynbody.bridge.OrderBridge(BH_snap, snap_higherz)\n",
    "#cat=b.fuzzy_match_catalog()\n",
    "\n",
    "#to adjust time:\n",
    "#for i in iords_list:\n",
    "#    vars()['adj_i%s_orbit'%(i)]=pd.read_csv('csvdata/i%s_orbit.csv'%(i))\n",
    "#    vars()['adj_i%s_orbit'%(i)].loc[:,'time']=vars()['adj_i%s_orbit'%(i)]['time']*1.0774702\n",
    "#    vars()['adj_i%s_orbit'%(i)].to_csv('csvdata/adj_i%s_orbit.csv'%(i), index=False)\n",
    "\n",
    "#for i in BH_arm['iord']:\n",
    "#    vars()['i_%s_data'%(i)].name=i\n",
    "#    for j in BH_arm['amiga.grp']:\n",
    "#        plot_SFH(h,j,snap_id_array[snap_id], mf=False, save=True, filename='plots/dg_adjTime/i_%s_SFH.png'%(i))\n",
    "#    iord_gmass_plot(vars()['i_%s_data'%(i)],time, lc=7, save=True, filename='plots/dg_adjTime/i_%s_gmass.png')\n",
    "#    iord_bhacc_plot(vars()['adj_i%s_orbit'%(i)], time, bins=200,save=True, filename='plots/dg_adjTime/i_%s_bhacc.png')\n",
    "#    iord_bhmass_plot(vars()['adj_i%s_orbit'%(i)], time, bins=200,save=True, filename='plots/dg_adjTime/i_%s_bhmass.png')\n",
    "#    iord_r_plot(vars()['i_%s_data'%(i)],time, save=True, filename='plots/distance/iord_%s_r.png')"
   ]
  },
  {
   "cell_type": "code",
   "execution_count": 4,
   "metadata": {
    "collapsed": true
   },
   "outputs": [],
   "source": [
    "#array of last four digits for each snap\n",
    "snap_id_array=['0139','0225','0275','0640','0974','1024','1269','1280','1408','1740','2048','2088','2432','2688','2816','2944','3072','3195','3200','3328','3456','3584','3606','3712','3840','3968','4096']"
   ]
  },
  {
   "cell_type": "code",
   "execution_count": 5,
   "metadata": {
    "collapsed": true
   },
   "outputs": [],
   "source": [
    "masses,iords=load_snap_csvs(snap_id_array[snap_id])\n",
    "global iords_list\n",
    "iords_list=iords.columns.tolist()\n",
    "iords_list=map(int, iords_list)\n",
    "time=pd.read_csv('csvdata/time.csv', index_col=0)\n",
    "global time_axis\n",
    "time_axis=pd.read_csv('csvdata/time_axis.csv', index_col=0)"
   ]
  },
  {
   "cell_type": "code",
   "execution_count": 6,
   "metadata": {
    "collapsed": true
   },
   "outputs": [],
   "source": [
    "for i in iords_list:\n",
    "    vars()['i_%s_data'%(i)]=pd.read_csv('csvdata/iord_%s.csv'%(i),index_col='snap')\n",
    "    #vars()['i%s_orbit'%(i)]=pd.read_csv('csvdata/i%s_orbit.csv'%(i))\n",
    "    vars()['adj_i%s_orbit'%(i)]=pd.read_csv('csvdata/adj_i%s_orbit.csv'%(i))"
   ]
  },
  {
   "cell_type": "code",
   "execution_count": 7,
   "metadata": {},
   "outputs": [
    {
     "data": {
      "text/plain": [
       "'4096'"
      ]
     },
     "execution_count": 7,
     "metadata": {},
     "output_type": "execute_result"
    }
   ],
   "source": [
    "#snap id index (negative values start from end)\n",
    "snap_id=snap_id-1\n",
    "snap_id_array[snap_id]"
   ]
  },
  {
   "cell_type": "code",
   "execution_count": 127,
   "metadata": {
    "collapsed": true
   },
   "outputs": [],
   "source": [
    "#set path\n",
    "path='/data/scratch/jillian/h148/h148.cosmo50PLK.3072g3HbwK1BH.00%s/h148.cosmo50PLK.3072g3HbwK1BH.00%s'%(snap_id_array[snap_id],snap_id_array[snap_id])\n",
    "#test for working at home:\n",
    "#path='/Users/Owner/Black_Hole_Research/old/pynbody_tutorial/testdata/g15784.lr.01024.gz'\n",
    "#returns snapshot and halos in physical units (takes a couple of minutes)\n",
    "snap,h=loader(path)"
   ]
  },
  {
   "cell_type": "code",
   "execution_count": 14,
   "metadata": {
    "collapsed": true
   },
   "outputs": [],
   "source": [
    "for j in snap_id_array:\n",
    "        path='/data/scratch/jillian/h148/h148.cosmo50PLK.3072g3HbwK1BH.00%s/h148.cosmo50PLK.3072g3HbwK1BH.00%s'%(j,j)\n",
    "        snap,h=loader(path)\n",
    "        BH=BH_finder(snap)\n",
    "        BH_arm=BH[pynbody.filt.BandPass('amiga.grp',2,700)]\n",
    "        for i in BH_arm['iord']:\n",
    "            ind=np.where(BH_arm['iord']==i)\n",
    "            halo_id=BH_arm[ind]['amiga.grp']\n",
    "            pynbody.analysis.halo.center(h[halo_id],mode='com')\n",
    "            temp=np.sqrt((BH_arm[ind]['pos']**2).sum(axis=1))\n",
    "            vars()['i_%s_data'%(i)].loc[int(j),'r[kpc]']=temp\n",
    "            vars()['i_%s_data'%(i)].to_csv('csvdata/iord_%s.csv'%(i))"
   ]
  },
  {
   "cell_type": "code",
   "execution_count": 57,
   "metadata": {},
   "outputs": [
    {
     "data": {
      "text/plain": [
       "SimArray([101863565, 101863739, 101863883, 101864796, 101867516])"
      ]
     },
     "execution_count": 57,
     "metadata": {},
     "output_type": "execute_result"
    }
   ],
   "source": [
    "BH=BH_finder(snap)\n",
    "BH_arm=BH[pynbody.filt.BandPass('amiga.grp',2,200)]\n",
    "BH_arm['iord'] #np.sqrt((BH['pos']**2).sum(axis=1))"
   ]
  },
  {
   "cell_type": "code",
   "execution_count": null,
   "metadata": {
    "collapsed": true
   },
   "outputs": [],
   "source": [
    "BH_arm[ind]['pos']"
   ]
  },
  {
   "cell_type": "code",
   "execution_count": null,
   "metadata": {
    "collapsed": true
   },
   "outputs": [],
   "source": [
    "vars()['i_%s_data'%(101867516)] #0.933192, 6.400699, 1.075121, 0.805989, 2.218721"
   ]
  },
  {
   "cell_type": "code",
   "execution_count": null,
   "metadata": {
    "collapsed": true
   },
   "outputs": [],
   "source": [
    "plot_BH_pos(h[halo_id].s, BH,'tform', w=20, save=True)"
   ]
  },
  {
   "cell_type": "code",
   "execution_count": null,
   "metadata": {
    "collapsed": true
   },
   "outputs": [],
   "source": [
    "h1_at_low_z = b(h_higherz[4])"
   ]
  },
  {
   "cell_type": "code",
   "execution_count": null,
   "metadata": {
    "collapsed": true
   },
   "outputs": [],
   "source": [
    "b=pynbody.bridge.OrderBridge(snap_3072,snap_higherz)"
   ]
  },
  {
   "cell_type": "code",
   "execution_count": null,
   "metadata": {
    "collapsed": true
   },
   "outputs": [],
   "source": [
    "cat=b.fuzzy_match_catalog()"
   ]
  },
  {
   "cell_type": "code",
   "execution_count": 287,
   "metadata": {
    "collapsed": true
   },
   "outputs": [],
   "source": [
    "n=6"
   ]
  },
  {
   "cell_type": "code",
   "execution_count": 288,
   "metadata": {},
   "outputs": [
    {
     "ename": "IndexError",
     "evalue": "index 6 is out of bounds for axis 0 with size 6",
     "output_type": "error",
     "traceback": [
      "\u001b[0;31m---------------------------------------------------------------------------\u001b[0m",
      "\u001b[0;31mIndexError\u001b[0m                                Traceback (most recent call last)",
      "\u001b[0;32m<ipython-input-288-6378cee799d3>\u001b[0m in \u001b[0;36m<module>\u001b[0;34m()\u001b[0m\n\u001b[0;32m----> 1\u001b[0;31m \u001b[0mi\u001b[0m\u001b[0;34m=\u001b[0m\u001b[0mBH_arm\u001b[0m\u001b[0;34m[\u001b[0m\u001b[0;34m'iord'\u001b[0m\u001b[0;34m]\u001b[0m\u001b[0;34m[\u001b[0m\u001b[0mn\u001b[0m\u001b[0;34m]\u001b[0m\u001b[0;34m\u001b[0m\u001b[0m\n\u001b[0m\u001b[1;32m      2\u001b[0m \u001b[0mi\u001b[0m\u001b[0;34m,\u001b[0m \u001b[0mBH_arm\u001b[0m\u001b[0;34m[\u001b[0m\u001b[0;34m'amiga.grp'\u001b[0m\u001b[0;34m]\u001b[0m\u001b[0;34m[\u001b[0m\u001b[0mn\u001b[0m\u001b[0;34m]\u001b[0m\u001b[0;34m\u001b[0m\u001b[0m\n",
      "\u001b[0;32m/data/home/ccleary/anaconda2/lib/python2.7/site-packages/pynbody/array.pyc\u001b[0m in \u001b[0;36m__getitem__\u001b[0;34m(self, item)\u001b[0m\n\u001b[1;32m    862\u001b[0m \u001b[0;34m\u001b[0m\u001b[0m\n\u001b[1;32m    863\u001b[0m     \u001b[0;32mdef\u001b[0m \u001b[0m__getitem__\u001b[0m\u001b[0;34m(\u001b[0m\u001b[0mself\u001b[0m\u001b[0;34m,\u001b[0m \u001b[0mitem\u001b[0m\u001b[0;34m)\u001b[0m\u001b[0;34m:\u001b[0m\u001b[0;34m\u001b[0m\u001b[0m\n\u001b[0;32m--> 864\u001b[0;31m         \u001b[0;32mreturn\u001b[0m \u001b[0mself\u001b[0m\u001b[0;34m.\u001b[0m\u001b[0mbase\u001b[0m\u001b[0;34m[\u001b[0m\u001b[0mself\u001b[0m\u001b[0;34m.\u001b[0m\u001b[0m_reexpress_index\u001b[0m\u001b[0;34m(\u001b[0m\u001b[0mitem\u001b[0m\u001b[0;34m)\u001b[0m\u001b[0;34m]\u001b[0m\u001b[0;34m\u001b[0m\u001b[0m\n\u001b[0m\u001b[1;32m    865\u001b[0m \u001b[0;34m\u001b[0m\u001b[0m\n\u001b[1;32m    866\u001b[0m     \u001b[0;32mdef\u001b[0m \u001b[0m__setitem__\u001b[0m\u001b[0;34m(\u001b[0m\u001b[0mself\u001b[0m\u001b[0;34m,\u001b[0m \u001b[0mitem\u001b[0m\u001b[0;34m,\u001b[0m \u001b[0mto\u001b[0m\u001b[0;34m)\u001b[0m\u001b[0;34m:\u001b[0m\u001b[0;34m\u001b[0m\u001b[0m\n",
      "\u001b[0;32m/data/home/ccleary/anaconda2/lib/python2.7/site-packages/pynbody/array.pyc\u001b[0m in \u001b[0;36m_reexpress_index\u001b[0;34m(self, index)\u001b[0m\n\u001b[1;32m    859\u001b[0m             \u001b[0;32mreturn\u001b[0m \u001b[0;34m[\u001b[0m\u001b[0mself\u001b[0m\u001b[0;34m.\u001b[0m\u001b[0m_ptr\u001b[0m\u001b[0;34m[\u001b[0m\u001b[0mindex\u001b[0m\u001b[0;34m[\u001b[0m\u001b[0;36m0\u001b[0m\u001b[0;34m]\u001b[0m\u001b[0;34m]\u001b[0m\u001b[0;34m]\u001b[0m \u001b[0;34m+\u001b[0m \u001b[0mlist\u001b[0m\u001b[0;34m(\u001b[0m\u001b[0mindex\u001b[0m\u001b[0;34m[\u001b[0m\u001b[0;36m1\u001b[0m\u001b[0;34m:\u001b[0m\u001b[0;34m]\u001b[0m\u001b[0;34m)\u001b[0m\u001b[0;34m\u001b[0m\u001b[0m\n\u001b[1;32m    860\u001b[0m         \u001b[0;32melse\u001b[0m\u001b[0;34m:\u001b[0m\u001b[0;34m\u001b[0m\u001b[0m\n\u001b[0;32m--> 861\u001b[0;31m             \u001b[0;32mreturn\u001b[0m \u001b[0mself\u001b[0m\u001b[0;34m.\u001b[0m\u001b[0m_ptr\u001b[0m\u001b[0;34m[\u001b[0m\u001b[0mindex\u001b[0m\u001b[0;34m]\u001b[0m\u001b[0;34m\u001b[0m\u001b[0m\n\u001b[0m\u001b[1;32m    862\u001b[0m \u001b[0;34m\u001b[0m\u001b[0m\n\u001b[1;32m    863\u001b[0m     \u001b[0;32mdef\u001b[0m \u001b[0m__getitem__\u001b[0m\u001b[0;34m(\u001b[0m\u001b[0mself\u001b[0m\u001b[0;34m,\u001b[0m \u001b[0mitem\u001b[0m\u001b[0;34m)\u001b[0m\u001b[0;34m:\u001b[0m\u001b[0;34m\u001b[0m\u001b[0m\n",
      "\u001b[0;31mIndexError\u001b[0m: index 6 is out of bounds for axis 0 with size 6"
     ]
    }
   ],
   "source": [
    "n=6\n",
    "i=BH_arm['iord'][n]\n",
    "i, BH_arm['amiga.grp'][n]"
   ]
  },
  {
   "cell_type": "code",
   "execution_count": 271,
   "metadata": {},
   "outputs": [
    {
     "data": {
      "text/plain": [
       "SimArray([5])"
      ]
     },
     "execution_count": 271,
     "metadata": {},
     "output_type": "execute_result"
    }
   ],
   "source": [
    "n=6\n",
    "i=BH_arm['iord'][n]\n",
    "halo_id=BH_arm[np.where(BH_arm['iord']==i)]['amiga.grp']\n",
    "halo_id"
   ]
  },
  {
   "cell_type": "code",
   "execution_count": 272,
   "metadata": {
    "collapsed": true
   },
   "outputs": [],
   "source": [
    "n=6\n",
    "i=BH_arm['iord'][n]\n",
    "halo_id=BH_arm[np.where(BH_arm['iord']==i)]['amiga.grp']\n",
    "iord_data=vars()['i_%s_data'%(i)]\n",
    "iord_df=vars()['adj_i%s_orbit'%(i)]"
   ]
  },
  {
   "cell_type": "code",
   "execution_count": 286,
   "metadata": {
    "scrolled": false
   },
   "outputs": [
    {
     "data": {
      "image/png": "[encoded data removed]",
      "text/plain": [
       "<matplotlib.figure.Figure at 0x7f07b6170ed0>"
      ]
     },
     "metadata": {},
     "output_type": "display_data"
    }
   ],
   "source": [
    "f,(ax1, ax2, ax3, ax4, ax5)=plt.subplots(5, sharex=True, dpi=100)\n",
    "ax1.plot(time['time[Gyr]'], iord_data['total'], label='Total Mass [M$_\\odot$]', linewidth=.9, color='k')\n",
    "ax1.plot(time['time[Gyr]'], iord_data['gas'], linestyle='--', label='Gas Mass [M$_\\odot$]', linewidth=.8, color='#1B7837')\n",
    "ax1.plot(time['time[Gyr]'], iord_data['star'], linestyle='--', label='Star Mass [M$_\\odot$]', linewidth=.9, color='#FFEE33')\n",
    "ax1.plot(time['time[Gyr]'], iord_data['BH'], linestyle='--', label='BH Mass', linewidth=.8, color='#662506')\n",
    "ax2.plot(iord_df['time'], iord_df['mass'], linewidth=.8, linestyle='--', label='BH Mass [M$_\\odot$]', color='#662506');\n",
    "ax3.plot(time['time[Gyr]'], iord_data['r[kpc]'], label='BH Radial Distance [kpc]', color='#88CCEE');\n",
    "ax4.plot(iord_df['time'], iord_df['accRate'], linewidth=.6, color='#6059A9', label='BH Accretion Rate [M$_\\odot$ yr$^{-1}$]')\n",
    "sfhist,thebins=SFH(h[halo_id].s, massform=False, subplot=ax5, color='#44AA99', label='SFR [M$_\\odot$ yr$^{-1}$]')\n",
    "\n",
    "ax1.set_title('Properties of Halo %s ($z$=0) Throughout Time'%(halo_id), y=1.4,weight='bold')\n",
    "plt.setp([a.get_xticklabels() for a in f.axes[:-2]], visible=False)\n",
    "#plt.setp([a.get_yticklabels() for a in f.axes], visible=False)\n",
    "\n",
    "plt.xlim(0,14)\n",
    "\n",
    "x0, x1 = ax1.get_xlim()\n",
    "old_axis = plt.gca()\n",
    "pz = ax1.twiny()\n",
    "labelz=time_axis['z'][-6:]\n",
    "times=time_axis['time[Gyr]'][-6:]\n",
    "pz.set_xticks(times)\n",
    "pz.set_xticklabels([str(x) for x in labelz])\n",
    "pz.set_xlim(x0,x1)\n",
    "pz.set_xlabel('$z$')\n",
    "plt.sca(old_axis)\n",
    "\n",
    "y1label=[10**6,10**7,10**8]\n",
    "ax1.set_yticks(y1label)\n",
    "ax1.set_yticklabels([str(l) for l in y1label], fontsize='xx-small')\n",
    "ax1.set_yscale('log')\n",
    "ax1.set_ylabel('Mass [M$_\\odot$]', fontsize='x-small');\n",
    "ax1.legend(fancybox=True, loc='upper left', bbox_to_anchor=(1, 1), ncol=1, fontsize='xx-small', frameon=False)\n",
    "\n",
    "y2label=[5.811*10**4,5.82*10**4,5.829*10**4]\n",
    "ax2.set_yticks(y2label)\n",
    "ax2.set_yticklabels([str(l) for l in y2label], fontsize='xx-small')\n",
    "ax2.set_ylabel('BH Mass\\n[M$_\\odot$]', fontsize='x-small');\n",
    "#ax2.ticklabel_format(useOffset=False,style='plain')\n",
    "\n",
    "y3label=[1,3,5]\n",
    "ax3.set_yticks(y3label)\n",
    "ax3.set_yticklabels([str(l) for l in y3label], fontsize='xx-small')\n",
    "ax3.set_ylabel('R [kpc]', fontsize='x-small'); \n",
    "\n",
    "y4label=[10**-18, 10**-20, 10**-15]\n",
    "ax4.set_yticks(y4label)\n",
    "ax4.set_yticklabels([str(l) for l in y4label], fontsize='xx-small')\n",
    "ax4.set_yscale('log')\n",
    "#ax4.set_ylim(0, max(iord_df['accRate'])*1.2)\n",
    "ax4.set_ylabel('Accretion Rate\\n[M$_\\odot$ yr$^{-1}$]', fontsize='x-small');\n",
    "\n",
    "y5label=[.06,.09,.12]\n",
    "ax5.set_yticks(y5label)\n",
    "ax5.set_yticklabels([str(l) for l in y5label], fontsize='xx-small')\n",
    "ax5.set_ylabel('SFR [M$_\\odot$ yr$^{-1}$]', fontsize='x-small')\n",
    "ax5.set_xlabel('Time [Gyr]', fontsize='large');\n",
    "\n",
    "f.subplots_adjust(hspace=0)\n",
    "plt.subplots_adjust(top=1.5)\n",
    "#plt.tight_layout()\n",
    "plt.savefig('plots/dwarf_plots/h148_h%s.png'%(halo_id),bbox_inches='tight', dpi=200)"
   ]
  },
  {
   "cell_type": "code",
   "execution_count": 243,
   "metadata": {},
   "outputs": [
    {
     "data": {
      "text/plain": [
       "SimArray([  3, 649,   6,  11,  12,   5])"
      ]
     },
     "execution_count": 243,
     "metadata": {},
     "output_type": "execute_result"
    }
   ],
   "source": [
    "BH_arm['amiga.grp']"
   ]
  },
  {
   "cell_type": "code",
   "execution_count": null,
   "metadata": {
    "collapsed": true
   },
   "outputs": [],
   "source": []
  }
 ],
 "metadata": {
  "kernelspec": {
   "display_name": "Python 2",
   "language": "python",
   "name": "python2"
  },
  "language_info": {
   "codemirror_mode": {
    "name": "ipython",
    "version": 2
   },
   "file_extension": ".py",
   "mimetype": "text/x-python",
   "name": "python",
   "nbconvert_exporter": "python",
   "pygments_lexer": "ipython2",
   "version": "2.7.13"
  }
 },
 "nbformat": 4,
 "nbformat_minor": 2
}
