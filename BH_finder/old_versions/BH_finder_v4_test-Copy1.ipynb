{
 "cells": [
  {
   "cell_type": "code",
   "execution_count": 1,
   "metadata": {
    "collapsed": true
   },
   "outputs": [],
   "source": [
    "import pynbody\n",
    "import matplotlib.pylab as plt\n",
    "import numpy as np\n",
    "import pandas as pd\n",
    "%matplotlib inline\n",
    "pd.set_option('display.max_columns', None)\n",
    "pd.set_option('display.max_rows', None)"
   ]
  },
  {
   "cell_type": "code",
   "execution_count": 2,
   "metadata": {
    "collapsed": true
   },
   "outputs": [],
   "source": [
    "galaxy_masses=pd.DataFrame()\n",
    "BH_halos=pd.DataFrame()\n",
    "snap_id=0"
   ]
  },
  {
   "cell_type": "code",
   "execution_count": 29,
   "metadata": {
    "collapsed": true
   },
   "outputs": [],
   "source": [
    "def loader(path):\n",
    "    '''returns snapshot and halo'''\n",
    "    snap=pynbody.load(path)\n",
    "    snap.physical_units()\n",
    "    h=snap.halos()\n",
    "    return snap,h\n",
    "\n",
    "def BH_finder(snap):\n",
    "    '''returns subsnap of black holes'''\n",
    "    return snap.star[pynbody.filt.BandPass('tform','-15 Gyr','0 Gyr')]\n",
    "\n",
    "def analysis(halo, view):\n",
    "    '''center snap on halo's center of mass (angmom gives errors if there aren't enough pixels). \n",
    "    view=1 for face on, 2 for side on, anything else will leave it as is'''\n",
    "    if view==1:\n",
    "        pynbody.analysis.angmom.faceon(halo)\n",
    "    elif view==2:\n",
    "        pynbody.analysis.angmom.sideon(halo)\n",
    "    else:\n",
    "        pynbody.analysis.halo.center(halo)\n",
    "        \n",
    "def plot_BH_pos(h, BH, grpid, attribute, snap_id, cmap='Greys', w=100, save=False, view=0):\n",
    "    '''plots position of black holes. Send halo array(h), black hole array(BH), grpid, attribute, and snap_id you want to plot \n",
    "    Optional: width/preferred scope(w) (default=100), colormap(default='Greys'), save(default=False)'''\n",
    "    \n",
    "    pynbody.plot.image(h[grpid].s,qty=attribute,cmap=cmap, width=w, log=False)\n",
    "    plt.plot(np.array((BH[np.where(BH['amiga.grp']==grpid)]['pos'])).T[0],np.array((BH[np.where(BH['amiga.grp']==grpid)]['pos'])).T[1],'r+')\n",
    "    plt.xlim(-w/2,w/2)\n",
    "    plt.ylim(-w/2,w/2)\n",
    "    plt.title('%s_h%s_%s_w%s'%(snap_id, grpid, attribute, w))\n",
    "    if save==True:\n",
    "        plt.savefig('plots/%s/h%s/h148_h%s_%s_w%s.png'%(snap_id, grpid, grpid, attribute, w))\n",
    "    plt.show()\n",
    "\n",
    "def adjust_csv_index(df):\n",
    "    df=df.rename(columns={'Unnamed: 0':'snap'})\n",
    "    df=df.set_index('snap')\n",
    "    \n",
    "def add_mass_columns(hgrpid, grpid, snap_id):\n",
    "    '''returns row with gas, stellar, and total masses for one halo tracked through time'''\n",
    "    df=pd.DataFrame([[hgrpid.g['mass'].sum(), hgrpid.s['mass'].sum(), hgrpid['mass'].sum()]], index=[snap_id], columns=['H[%d] Gas'%(grpid),'H[%d] Star'%(grpid),'H[%d] Total'%(grpid)])\n",
    "    df.units='Msol'\n",
    "    return df\n",
    "    \n",
    "def mass_df(h, BHgrp, snap_id):\n",
    "    df=pd.DataFrame()\n",
    "    for i in BHgrp:\n",
    "        df=pd.concat([df, add_mass_columns(h[i], i, snap_id)], axis=1, join='outer')\n",
    "    df.units='Msol'\n",
    "    return df\n",
    "    \n",
    "def galaxy_df(snap_id,h,BHgrp):\n",
    "    '''snap_id_array[snap_id], h, np.unique(BH['amiga.grp'])'''\n",
    "    galaxy_masses=pd.DataFrame()\n",
    "    for i in snap_id:\n",
    "        vars()['mass_%s'%(i)]=mass_df(h,BHgrp,i)\n",
    "        galaxy_masses=galaxy_masses.append(vars()['mass_%s'%(i)])\n",
    "    return galaxy_masses\n",
    "    if save==True:\n",
    "        galaxy_masses.to_csv('csvdata/%s_galaxy_masses.csv'%(snap_id))        \n",
    "    \n",
    "def plot_SFH(h, grpid, snap_id, c='k', save=True, mf=False):\n",
    "    '''plots SFH. Send halo array(h[grpid]), color(c=k) grpid, and snapshot you want to plot \n",
    "    Optional:save(default=True)\n",
    "    #examples of iterative SFH:\n",
    "    for i in np.unique(BH['amiga.grp']): #using black hole array\n",
    "        plot_SFH(h,i,snap_id_array[snap_id], mf=False)\n",
    "    for i in np.unique(iords[str(snap_id_array[snap_id])+' halo groups'].dropna()): #using iords array\n",
    "        plot_SFH(h,i,snap_id_array[snap_id], mf=False)'''\n",
    "    plt.clf()\n",
    "    pynbody.plot.sfh(h[grpid].s,color=c, massform=mf);\n",
    "    plt.title('h148_h[%s]_SFH'%(grpid), y=1.14);\n",
    "    if save==True:\n",
    "        plt.savefig('plots/SFH/h148_h[%s]_SFH.png'%(grpid),bbox_inches='tight');\n",
    "\n",
    "def BH_halo_add(snap_id, BH, BH_halos):\n",
    "    '''snap_id_array[snap_id], BH, BH_halos'''\n",
    "    df=pd.DataFrame({'%s halo groups'%(snap_id):BH['amiga.grp'],'%s iords'%(snap_id):BH['iord']})\n",
    "    BH_halos=pd.concat([BH_halos, df], axis=1, join='outer')\n",
    "    return BH_halos\n",
    "\n",
    "def load_snap_csvs(snap_id):\n",
    "    '''snap_id_array[snap_id]. load mass and iord csvs'''\n",
    "    #masses=pd.DataFrame()\n",
    "    masses=pd.read_csv('csvdata/galaxy_masses.csv',index_col='snap')\n",
    "    iords=pd.DataFrame()\n",
    "    iords=pd.read_csv('csvdata/iords.csv',index_col='snap')\n",
    "    return masses,iords\n",
    "    \n",
    "def get_iords_df(iords, iords_list, masses, save=False):\n",
    "    for i in iords_list:\n",
    "        ind=0\n",
    "        vars()['iord_%s'%(i)]=pd.DataFrame(columns=['gas', 'star', 'total'])\n",
    "        iords_temp=iords[i].dropna()\n",
    "        vars()['iord_%s'%(i)]['halo']=iords[i]\n",
    "        for j in iords_temp.index:\n",
    "            if pd.notnull(iords.at[j,i]):\n",
    "                temp=[masses.at[j,'H[%s] Gas'%(int(iords.at[j,i]))],masses.at[j,'H[%s] Star'%(int(iords.at[j,i]))],masses.at[j,'H[%s] Total'%(int(iords.at[j,i]))]]\n",
    "            if (pd.notnull(temp)).any():\n",
    "                vars()['iord_%s'%(i)].loc[int(iords_temp.index[ind]),['gas','star','total']]=temp\n",
    "            else: continue\n",
    "            ind=ind+1\n",
    "            vars()['iord_%s'%(i)]=vars()['iord_%s'%(i)].fillna(0)\n",
    "            if save==True:\n",
    "                vars()['iord_%s'%(i)].to_csv('csvdata/iord_%s.csv'%(i))\n",
    "                \n",
    "def iord_mass_plot(iord_df,iord_id,save=False):\n",
    "    plt.hist(range(0,len(iord_df)), weights=iord_df['total'], bins=len(iord_df),width=.85, alpha=.3, histtype='bar', label='Total', color='#666666',rwidth=1, align='mid')\n",
    "    plt.hist([range(0,len(iord_df)),range(0,len(iord_df))], weights=[iord_df['gas'],iord_df['star']],bins=len(iord_df),width=.85, alpha=1, histtype='bar', stacked=True, label=['Gas','Stars'],fill=True, color=['#44AA99','#88CCEE'],rwidth=1,align='mid')\n",
    "    plt.title('Masses of Halo Containing iord %s'%(iord_id));\n",
    "    plt.ylabel('Mass [M$_\\odot$]', fontsize='large');\n",
    "    plt.legend(loc='best')\n",
    "    plt.yscale('log')\n",
    "    if save==True:\n",
    "        plt.savefig('plots/galaxy_masses/iord_%s_masses.png'%(iord_id),bbox_inches='tight')\n",
    "\n",
    "def iord_mass_plot_2(iord_df,iord_id,time, halo_label=False, save=False, lc='best'):\n",
    "    '''send individual iord dataframe, iord_id, timearray(time['time[Gyr]'])'''\n",
    "    plt.clf()\n",
    "    bins=30 #nbins is nsnaps \n",
    "    w=.05\n",
    "    #plt.hist(time['time[Gyr]'], weights=iord_df['total'], width=w, bins=bins, histtype='bar', label='Total',color='k', align='mid');\n",
    "    #plt.hist([time['time[Gyr]'],time['time[Gyr]']], weights=[iord_df['star'], iord_df['gas']],width=w,bins=bins, alpha=.9, histtype='bar',stacked=True, label=['Stars', 'Gas'], color=['#FFEE33','#1B7837'],align='mid');\n",
    "    #plt.hist(time['time[Gyr]'], weights=iord_df['BH'],width=w,bins=bins, alpha=.5, histtype='bar', label='BH', color='#662506',align='mid');\n",
    "    plt.scatter(time['time[Gyr]'], iord_df['total'],label='Total',color='k');\n",
    "    plt.scatter([time['time[Gyr]'],time['time[Gyr]']], [iord_df['star'], iord_df['gas']],alpha=.9, label=['Stars', 'Gas'], color=['#FFEE33','#1B7837']);\n",
    "    plt.scatter(time['time[Gyr]'], iord_df['BH'], alpha=.5, label='BH', color='#662506');\n",
    "    plt.title('Masses of Halo Containing iord %s'%(iord_id), y=1.14);\n",
    "    plt.ylabel('Mass [M$_\\odot$]', fontsize='large');\n",
    "    plt.xlabel('Time [Gyr]', fontsize='large');\n",
    "    #plt.xlim(-.25,14)\n",
    "    plt.legend(loc=lc)\n",
    "    #plt.yscale('log')\n",
    "\n",
    "    x0, x1 = plt.gca().get_xlim()\n",
    "    from pynbody.analysis import pkdgrav_cosmo as cosmo\n",
    "    c = cosmo.Cosmology(snap)\n",
    "    old_axis = plt.gca()\n",
    "    pz = plt.twiny()\n",
    "    labelzs = np.arange(5, int(time['z'][-1]) - 1, -1)\n",
    "    times = [13.7 * c.Exp2Time(1.0 / (1 + z)) / c.Exp2Time(1) for z in labelzs]\n",
    "    pz.set_xticks(times)\n",
    "    pz.set_xticklabels([str(x) for x in labelzs])\n",
    "    pz.set_xlim(x0,x1)\n",
    "    pz.set_xlabel('$z$')\n",
    "    plt.sca(old_axis)\n",
    "\n",
    "    if halo_label==True:\n",
    "        prev=0\n",
    "        for a in time['time[Gyr]']:\n",
    "            #if iord_df['halo'].str.contains('[').any():\n",
    "                #iord_df['halo'] = iord_df['halo'].map(lambda x: str(x).lstrip('[').rstrip(']'))\n",
    "            halo=iord_df[iord_df['age']==a]['halo'].item()\n",
    "            if halo!=prev and halo!=0:\n",
    "                plt.text(a, iord_df[iord_df['age']==a]['total'].values*1.1,str('%s'%(int(halo))), color='#666666')\n",
    "                prev=halo\n",
    "            else:continue\n",
    "\n",
    "    plt.tight_layout()\n",
    "    plt.subplots_adjust(top=1)\n",
    "    if save==True:\n",
    "        plt.savefig('plots/galaxy_masses/iord_%s_masses.png'%(iord_id),bbox_inches='tight', dpi=300)\n",
    "        \n",
    "#mask=np.in1d(np.array(snap.s['iord']),np.array(pd.to_numeric(iords_list)))\n",
    "#BH_iords=snap.s[mask]"
   ]
  },
  {
   "cell_type": "code",
   "execution_count": 4,
   "metadata": {
    "collapsed": true
   },
   "outputs": [],
   "source": [
    "#array of last four digits for each snap\n",
    "snap_id_array=['0139','0225','0275','0640','0974','1024','1269','1280','1408','1740','2048','2088','2432','2688','2816','2944','3072','3195','3200','3328','3456','3584','3606','3712','3840','3968','4096']"
   ]
  },
  {
   "cell_type": "code",
   "execution_count": 5,
   "metadata": {
    "collapsed": true
   },
   "outputs": [],
   "source": [
    "time=pd.DataFrame(index=snap_id_array, columns=['time[Gyr]', 'z'])\n",
    "masses,iords=load_snap_csvs(snap_id_array[snap_id])\n",
    "iords_list=iords.columns.tolist()\n",
    "for i in iords_list:\n",
    "    vars()['iord_%s'%(i)]=pd.read_csv('csvdata/iord_%s.csv'%(i),index_col='snap')"
   ]
  },
  {
   "cell_type": "code",
   "execution_count": 6,
   "metadata": {},
   "outputs": [
    {
     "data": {
      "text/plain": [
       "'4096'"
      ]
     },
     "execution_count": 6,
     "metadata": {},
     "output_type": "execute_result"
    }
   ],
   "source": [
    "#snap id index (negative values start from end)\n",
    "snap_id=snap_id-1\n",
    "snap_id_array[snap_id]"
   ]
  },
  {
   "cell_type": "code",
   "execution_count": 7,
   "metadata": {
    "collapsed": true
   },
   "outputs": [],
   "source": [
    "#set path\n",
    "path='/data/scratch/jillian/h148/h148.cosmo50PLK.3072g3HbwK1BH.00%s/h148.cosmo50PLK.3072g3HbwK1BH.00%s'%(snap_id_array[snap_id],snap_id_array[snap_id])\n",
    "#test for working at home:\n",
    "#path='/Users/Owner/Black_Hole_Research/old/pynbody_tutorial/testdata/g15784.lr.01024.gz'"
   ]
  },
  {
   "cell_type": "code",
   "execution_count": 8,
   "metadata": {
    "collapsed": true
   },
   "outputs": [],
   "source": [
    "#returns snapshot and halos in physical units (takes a couple of minutes)\n",
    "snap,h=loader(path)"
   ]
  },
  {
   "cell_type": "code",
   "execution_count": null,
   "metadata": {
    "collapsed": true
   },
   "outputs": [],
   "source": [
    "time.loc[snap_id_array[snap_id]]['time[Gyr]']=snap.properties['time'].in_units('Gyr')\n",
    "time.loc[snap_id_array[snap_id]]['z']=snap.properties['z']"
   ]
  },
  {
   "cell_type": "code",
   "execution_count": 9,
   "metadata": {
    "collapsed": true
   },
   "outputs": [],
   "source": [
    "BH=BH_finder(snap)"
   ]
  },
  {
   "cell_type": "code",
   "execution_count": null,
   "metadata": {
    "collapsed": true
   },
   "outputs": [],
   "source": [
    "for i in iords_list:\n",
    "    temp=BH[np.where(BH['iord']==int(i))]['mass']\n",
    "    if len(temp)>0:\n",
    "        vars()['iord_%s'%(i)].loc[int(snap_id_array[snap_id]),'BH']=temp\n",
    "        vars()['iord_%s'%(i)].loc[int(snap_id_array[snap_id]),'r[kpc]']=BH[np.where(BH['iord']==int(i))]['r']"
   ]
  },
  {
   "cell_type": "code",
   "execution_count": null,
   "metadata": {
    "collapsed": true
   },
   "outputs": [],
   "source": [
    "for j in snap_id_array:\n",
    "    path='/data/scratch/jillian/h148/h148.cosmo50PLK.3072g3HbwK1BH.00%s/h148.cosmo50PLK.3072g3HbwK1BH.00%s'%(j,j)\n",
    "    snap,h=loader(path)\n",
    "    time.loc[j]['time[Gyr]']=snap.properties['time'].in_units('Gyr')\n",
    "    time.loc[j]['z']=snap.properties['z']"
   ]
  },
  {
   "cell_type": "code",
   "execution_count": null,
   "metadata": {},
   "outputs": [],
   "source": [
    "time"
   ]
  },
  {
   "cell_type": "code",
   "execution_count": null,
   "metadata": {
    "collapsed": true
   },
   "outputs": [],
   "source": [
    "time.to_csv('csvdata/time.csv')''"
   ]
  },
  {
   "cell_type": "code",
   "execution_count": null,
   "metadata": {
    "collapsed": true
   },
   "outputs": [],
   "source": [
    "x=np.where(time['time[Gyr]']==a)"
   ]
  },
  {
   "cell_type": "code",
   "execution_count": 10,
   "metadata": {},
   "outputs": [
    {
     "data": {
      "text/plain": [
       "SimArray([  1,   3,   1,   1, 649,   6,  11,  12,   1,   1,   1,   5])"
      ]
     },
     "execution_count": 10,
     "metadata": {},
     "output_type": "execute_result"
    }
   ],
   "source": [
    "BH['amiga.grp']"
   ]
  },
  {
   "cell_type": "code",
   "execution_count": null,
   "metadata": {
    "collapsed": true
   },
   "outputs": [],
   "source": [
    "time[np.where(time['time[Gyr]']==a)]['time[Gyr]']"
   ]
  },
  {
   "cell_type": "code",
   "execution_count": 14,
   "metadata": {
    "collapsed": true
   },
   "outputs": [],
   "source": [
    "time=pd.read_csv('csvdata/time.csv', index_col=[0])"
   ]
  },
  {
   "cell_type": "code",
   "execution_count": null,
   "metadata": {
    "collapsed": true
   },
   "outputs": [],
   "source": [
    "orbit_file2=open('/data/scratch/jillian/h148/h148.cosmo50PLK.3072g3HbwK1BH.orbit','r').readlines()"
   ]
  },
  {
   "cell_type": "code",
   "execution_count": null,
   "metadata": {
    "collapsed": true
   },
   "outputs": [],
   "source": [
    "orbit_file=pd.read_csv('/data/scratch/jillian/h148/h148.cosmo50PLK.3072g3HbwK1BH.orbit', header=None, sep=' ', index_col=False,names=['iord', 'time', 'stepNumber', 'mass','xPos', 'yPos', 'zPos','xVel','yVel','zVel','pot','accRate','delM','FB_E_released','dt','scalefactor'])"
   ]
  },
  {
   "cell_type": "code",
   "execution_count": null,
   "metadata": {},
   "outputs": [],
   "source": [
    "BHorbits="
   ]
  },
  {
   "cell_type": "code",
   "execution_count": null,
   "metadata": {
    "collapsed": true
   },
   "outputs": [],
   "source": [
    "orb2=pynbody.load('/data/scratch/jillian/h148/h148.cosmo50PLK.3072g3HbwK1BH.orbit')"
   ]
  },
  {
   "cell_type": "code",
   "execution_count": 30,
   "metadata": {},
   "outputs": [
    {
     "ename": "KeyError",
     "evalue": "-1",
     "output_type": "error",
     "traceback": [
      "\u001b[0;31m---------------------------------------------------------------------------\u001b[0m",
      "\u001b[0;31mKeyError\u001b[0m                                  Traceback (most recent call last)",
      "\u001b[0;32m<ipython-input-30-3fd73fd0cd45>\u001b[0m in \u001b[0;36m<module>\u001b[0;34m()\u001b[0m\n\u001b[1;32m      1\u001b[0m \u001b[0;32mfor\u001b[0m \u001b[0mi\u001b[0m \u001b[0;32min\u001b[0m \u001b[0miords_list\u001b[0m\u001b[0;34m:\u001b[0m\u001b[0;34m\u001b[0m\u001b[0m\n\u001b[0;32m----> 2\u001b[0;31m        \u001b[0miord_mass_plot_2\u001b[0m\u001b[0;34m(\u001b[0m\u001b[0mvars\u001b[0m\u001b[0;34m(\u001b[0m\u001b[0;34m)\u001b[0m\u001b[0;34m[\u001b[0m\u001b[0;34m'iord_%s'\u001b[0m\u001b[0;34m%\u001b[0m\u001b[0;34m(\u001b[0m\u001b[0mi\u001b[0m\u001b[0;34m)\u001b[0m\u001b[0;34m]\u001b[0m\u001b[0;34m,\u001b[0m\u001b[0mi\u001b[0m\u001b[0;34m,\u001b[0m\u001b[0mtime\u001b[0m\u001b[0;34m,\u001b[0m \u001b[0mhalo_label\u001b[0m\u001b[0;34m=\u001b[0m\u001b[0mFalse\u001b[0m\u001b[0;34m,\u001b[0m \u001b[0msave\u001b[0m\u001b[0;34m=\u001b[0m\u001b[0mFalse\u001b[0m\u001b[0;34m,\u001b[0m \u001b[0mlc\u001b[0m\u001b[0;34m=\u001b[0m\u001b[0;34m'best'\u001b[0m\u001b[0;34m)\u001b[0m\u001b[0;34m\u001b[0m\u001b[0m\n\u001b[0m",
      "\u001b[0;32m<ipython-input-29-5af81b05f44f>\u001b[0m in \u001b[0;36miord_mass_plot_2\u001b[0;34m(iord_df, iord_id, time, halo_label, save, lc)\u001b[0m\n\u001b[1;32m    138\u001b[0m     \u001b[0mold_axis\u001b[0m \u001b[0;34m=\u001b[0m \u001b[0mplt\u001b[0m\u001b[0;34m.\u001b[0m\u001b[0mgca\u001b[0m\u001b[0;34m(\u001b[0m\u001b[0;34m)\u001b[0m\u001b[0;34m\u001b[0m\u001b[0m\n\u001b[1;32m    139\u001b[0m     \u001b[0mpz\u001b[0m \u001b[0;34m=\u001b[0m \u001b[0mplt\u001b[0m\u001b[0;34m.\u001b[0m\u001b[0mtwiny\u001b[0m\u001b[0;34m(\u001b[0m\u001b[0;34m)\u001b[0m\u001b[0;34m\u001b[0m\u001b[0m\n\u001b[0;32m--> 140\u001b[0;31m     \u001b[0mlabelzs\u001b[0m \u001b[0;34m=\u001b[0m \u001b[0mnp\u001b[0m\u001b[0;34m.\u001b[0m\u001b[0marange\u001b[0m\u001b[0;34m(\u001b[0m\u001b[0;36m5\u001b[0m\u001b[0;34m,\u001b[0m \u001b[0mint\u001b[0m\u001b[0;34m(\u001b[0m\u001b[0mtime\u001b[0m\u001b[0;34m[\u001b[0m\u001b[0;34m'z'\u001b[0m\u001b[0;34m]\u001b[0m\u001b[0;34m[\u001b[0m\u001b[0;34m-\u001b[0m\u001b[0;36m1\u001b[0m\u001b[0;34m]\u001b[0m\u001b[0;34m)\u001b[0m \u001b[0;34m-\u001b[0m \u001b[0;36m1\u001b[0m\u001b[0;34m,\u001b[0m \u001b[0;34m-\u001b[0m\u001b[0;36m1\u001b[0m\u001b[0;34m)\u001b[0m\u001b[0;34m\u001b[0m\u001b[0m\n\u001b[0m\u001b[1;32m    141\u001b[0m     \u001b[0mtimes\u001b[0m \u001b[0;34m=\u001b[0m \u001b[0;34m[\u001b[0m\u001b[0;36m13.7\u001b[0m \u001b[0;34m*\u001b[0m \u001b[0mc\u001b[0m\u001b[0;34m.\u001b[0m\u001b[0mExp2Time\u001b[0m\u001b[0;34m(\u001b[0m\u001b[0;36m1.0\u001b[0m \u001b[0;34m/\u001b[0m \u001b[0;34m(\u001b[0m\u001b[0;36m1\u001b[0m \u001b[0;34m+\u001b[0m \u001b[0mz\u001b[0m\u001b[0;34m)\u001b[0m\u001b[0;34m)\u001b[0m \u001b[0;34m/\u001b[0m \u001b[0mc\u001b[0m\u001b[0;34m.\u001b[0m\u001b[0mExp2Time\u001b[0m\u001b[0;34m(\u001b[0m\u001b[0;36m1\u001b[0m\u001b[0;34m)\u001b[0m \u001b[0;32mfor\u001b[0m \u001b[0mz\u001b[0m \u001b[0;32min\u001b[0m \u001b[0mlabelzs\u001b[0m\u001b[0;34m]\u001b[0m\u001b[0;34m\u001b[0m\u001b[0m\n\u001b[1;32m    142\u001b[0m     \u001b[0mpz\u001b[0m\u001b[0;34m.\u001b[0m\u001b[0mset_xticks\u001b[0m\u001b[0;34m(\u001b[0m\u001b[0mtimes\u001b[0m\u001b[0;34m)\u001b[0m\u001b[0;34m\u001b[0m\u001b[0m\n",
      "\u001b[0;32m/data/home/ccleary/anaconda2/lib/python2.7/site-packages/pandas/core/series.pyc\u001b[0m in \u001b[0;36m__getitem__\u001b[0;34m(self, key)\u001b[0m\n\u001b[1;32m    599\u001b[0m         \u001b[0mkey\u001b[0m \u001b[0;34m=\u001b[0m \u001b[0mcom\u001b[0m\u001b[0;34m.\u001b[0m\u001b[0m_apply_if_callable\u001b[0m\u001b[0;34m(\u001b[0m\u001b[0mkey\u001b[0m\u001b[0;34m,\u001b[0m \u001b[0mself\u001b[0m\u001b[0;34m)\u001b[0m\u001b[0;34m\u001b[0m\u001b[0m\n\u001b[1;32m    600\u001b[0m         \u001b[0;32mtry\u001b[0m\u001b[0;34m:\u001b[0m\u001b[0;34m\u001b[0m\u001b[0m\n\u001b[0;32m--> 601\u001b[0;31m             \u001b[0mresult\u001b[0m \u001b[0;34m=\u001b[0m \u001b[0mself\u001b[0m\u001b[0;34m.\u001b[0m\u001b[0mindex\u001b[0m\u001b[0;34m.\u001b[0m\u001b[0mget_value\u001b[0m\u001b[0;34m(\u001b[0m\u001b[0mself\u001b[0m\u001b[0;34m,\u001b[0m \u001b[0mkey\u001b[0m\u001b[0;34m)\u001b[0m\u001b[0;34m\u001b[0m\u001b[0m\n\u001b[0m\u001b[1;32m    602\u001b[0m \u001b[0;34m\u001b[0m\u001b[0m\n\u001b[1;32m    603\u001b[0m             \u001b[0;32mif\u001b[0m \u001b[0;32mnot\u001b[0m \u001b[0mis_scalar\u001b[0m\u001b[0;34m(\u001b[0m\u001b[0mresult\u001b[0m\u001b[0;34m)\u001b[0m\u001b[0;34m:\u001b[0m\u001b[0;34m\u001b[0m\u001b[0m\n",
      "\u001b[0;32m/data/home/ccleary/anaconda2/lib/python2.7/site-packages/pandas/core/indexes/base.pyc\u001b[0m in \u001b[0;36mget_value\u001b[0;34m(self, series, key)\u001b[0m\n\u001b[1;32m   2475\u001b[0m         \u001b[0;32mtry\u001b[0m\u001b[0;34m:\u001b[0m\u001b[0;34m\u001b[0m\u001b[0m\n\u001b[1;32m   2476\u001b[0m             return self._engine.get_value(s, k,\n\u001b[0;32m-> 2477\u001b[0;31m                                           tz=getattr(series.dtype, 'tz', None))\n\u001b[0m\u001b[1;32m   2478\u001b[0m         \u001b[0;32mexcept\u001b[0m \u001b[0mKeyError\u001b[0m \u001b[0;32mas\u001b[0m \u001b[0me1\u001b[0m\u001b[0;34m:\u001b[0m\u001b[0;34m\u001b[0m\u001b[0m\n\u001b[1;32m   2479\u001b[0m             \u001b[0;32mif\u001b[0m \u001b[0mlen\u001b[0m\u001b[0;34m(\u001b[0m\u001b[0mself\u001b[0m\u001b[0;34m)\u001b[0m \u001b[0;34m>\u001b[0m \u001b[0;36m0\u001b[0m \u001b[0;32mand\u001b[0m \u001b[0mself\u001b[0m\u001b[0;34m.\u001b[0m\u001b[0minferred_type\u001b[0m \u001b[0;32min\u001b[0m \u001b[0;34m[\u001b[0m\u001b[0;34m'integer'\u001b[0m\u001b[0;34m,\u001b[0m \u001b[0;34m'boolean'\u001b[0m\u001b[0;34m]\u001b[0m\u001b[0;34m:\u001b[0m\u001b[0;34m\u001b[0m\u001b[0m\n",
      "\u001b[0;32mpandas/_libs/index.pyx\u001b[0m in \u001b[0;36mpandas._libs.index.IndexEngine.get_value (pandas/_libs/index.c:4404)\u001b[0;34m()\u001b[0m\n",
      "\u001b[0;32mpandas/_libs/index.pyx\u001b[0m in \u001b[0;36mpandas._libs.index.IndexEngine.get_value (pandas/_libs/index.c:4087)\u001b[0;34m()\u001b[0m\n",
      "\u001b[0;32mpandas/_libs/index.pyx\u001b[0m in \u001b[0;36mpandas._libs.index.IndexEngine.get_loc (pandas/_libs/index.c:5126)\u001b[0;34m()\u001b[0m\n",
      "\u001b[0;32mpandas/_libs/hashtable_class_helper.pxi\u001b[0m in \u001b[0;36mpandas._libs.hashtable.Int64HashTable.get_item (pandas/_libs/hashtable.c:14031)\u001b[0;34m()\u001b[0m\n",
      "\u001b[0;32mpandas/_libs/hashtable_class_helper.pxi\u001b[0m in \u001b[0;36mpandas._libs.hashtable.Int64HashTable.get_item (pandas/_libs/hashtable.c:13975)\u001b[0;34m()\u001b[0m\n",
      "\u001b[0;31mKeyError\u001b[0m: -1"
     ]
    },
    {
     "data": {
      "image/png": "[encoded data removed]",
      "text/plain": [
       "<matplotlib.figure.Figure at 0x7f990eb07810>"
      ]
     },
     "metadata": {},
     "output_type": "display_data"
    }
   ],
   "source": [
    " for i in iords_list:\n",
    "        iord_mass_plot_2(vars()['iord_%s'%(i)],i,time, halo_label=False, save=False, lc='best')"
   ]
  },
  {
   "cell_type": "code",
   "execution_count": 16,
   "metadata": {},
   "outputs": [
    {
     "data": {
      "text/html": [
       "<div>\n",
       "<style>\n",
       "    .dataframe thead tr:only-child th {\n",
       "        text-align: right;\n",
       "    }\n",
       "\n",
       "    .dataframe thead th {\n",
       "        text-align: left;\n",
       "    }\n",
       "\n",
       "    .dataframe tbody tr th {\n",
       "        vertical-align: top;\n",
       "    }\n",
       "</style>\n",
       "<table border=\"1\" class=\"dataframe\">\n",
       "  <thead>\n",
       "    <tr style=\"text-align: right;\">\n",
       "      <th></th>\n",
       "      <th>time[Gyr]</th>\n",
       "      <th>z</th>\n",
       "    </tr>\n",
       "  </thead>\n",
       "  <tbody>\n",
       "    <tr>\n",
       "      <th>139</th>\n",
       "      <td>0.477443</td>\n",
       "      <td>9.954491e+00</td>\n",
       "    </tr>\n",
       "    <tr>\n",
       "      <th>225</th>\n",
       "      <td>0.767008</td>\n",
       "      <td>6.983808e+00</td>\n",
       "    </tr>\n",
       "    <tr>\n",
       "      <th>275</th>\n",
       "      <td>0.935360</td>\n",
       "      <td>5.992851e+00</td>\n",
       "    </tr>\n",
       "    <tr>\n",
       "      <th>640</th>\n",
       "      <td>2.164327</td>\n",
       "      <td>2.984615e+00</td>\n",
       "    </tr>\n",
       "    <tr>\n",
       "      <th>974</th>\n",
       "      <td>3.288917</td>\n",
       "      <td>1.999371e+00</td>\n",
       "    </tr>\n",
       "    <tr>\n",
       "      <th>1024</th>\n",
       "      <td>3.457268</td>\n",
       "      <td>1.898475e+00</td>\n",
       "    </tr>\n",
       "    <tr>\n",
       "      <th>1269</th>\n",
       "      <td>4.282192</td>\n",
       "      <td>1.499938e+00</td>\n",
       "    </tr>\n",
       "    <tr>\n",
       "      <th>1280</th>\n",
       "      <td>4.319229</td>\n",
       "      <td>1.484975e+00</td>\n",
       "    </tr>\n",
       "    <tr>\n",
       "      <th>1408</th>\n",
       "      <td>4.750210</td>\n",
       "      <td>1.324819e+00</td>\n",
       "    </tr>\n",
       "    <tr>\n",
       "      <th>1740</th>\n",
       "      <td>5.868065</td>\n",
       "      <td>9.997720e-01</td>\n",
       "    </tr>\n",
       "    <tr>\n",
       "      <th>2048</th>\n",
       "      <td>6.905111</td>\n",
       "      <td>7.749321e-01</td>\n",
       "    </tr>\n",
       "    <tr>\n",
       "      <th>2088</th>\n",
       "      <td>7.039793</td>\n",
       "      <td>7.495550e-01</td>\n",
       "    </tr>\n",
       "    <tr>\n",
       "      <th>2432</th>\n",
       "      <td>8.198053</td>\n",
       "      <td>5.582624e-01</td>\n",
       "    </tr>\n",
       "    <tr>\n",
       "      <th>2688</th>\n",
       "      <td>9.060013</td>\n",
       "      <td>4.405243e-01</td>\n",
       "    </tr>\n",
       "    <tr>\n",
       "      <th>2816</th>\n",
       "      <td>9.490994</td>\n",
       "      <td>3.877107e-01</td>\n",
       "    </tr>\n",
       "    <tr>\n",
       "      <th>2944</th>\n",
       "      <td>9.921974</td>\n",
       "      <td>3.383115e-01</td>\n",
       "    </tr>\n",
       "    <tr>\n",
       "      <th>3072</th>\n",
       "      <td>10.352954</td>\n",
       "      <td>2.919508e-01</td>\n",
       "    </tr>\n",
       "    <tr>\n",
       "      <th>3195</th>\n",
       "      <td>10.767100</td>\n",
       "      <td>2.499659e-01</td>\n",
       "    </tr>\n",
       "    <tr>\n",
       "      <th>3200</th>\n",
       "      <td>10.783935</td>\n",
       "      <td>2.483087e-01</td>\n",
       "    </tr>\n",
       "    <tr>\n",
       "      <th>3328</th>\n",
       "      <td>11.214915</td>\n",
       "      <td>2.071111e-01</td>\n",
       "    </tr>\n",
       "    <tr>\n",
       "      <th>3456</th>\n",
       "      <td>11.645896</td>\n",
       "      <td>1.681224e-01</td>\n",
       "    </tr>\n",
       "    <tr>\n",
       "      <th>3584</th>\n",
       "      <td>12.076876</td>\n",
       "      <td>1.311380e-01</td>\n",
       "    </tr>\n",
       "    <tr>\n",
       "      <th>3606</th>\n",
       "      <td>12.150951</td>\n",
       "      <td>1.249698e-01</td>\n",
       "    </tr>\n",
       "    <tr>\n",
       "      <th>3712</th>\n",
       "      <td>12.507856</td>\n",
       "      <td>9.598009e-02</td>\n",
       "    </tr>\n",
       "    <tr>\n",
       "      <th>3840</th>\n",
       "      <td>12.938837</td>\n",
       "      <td>6.249300e-02</td>\n",
       "    </tr>\n",
       "    <tr>\n",
       "      <th>3968</th>\n",
       "      <td>13.369817</td>\n",
       "      <td>3.053989e-02</td>\n",
       "    </tr>\n",
       "    <tr>\n",
       "      <th>4096</th>\n",
       "      <td>13.800797</td>\n",
       "      <td>5.299428e-11</td>\n",
       "    </tr>\n",
       "  </tbody>\n",
       "</table>\n",
       "</div>"
      ],
      "text/plain": [
       "      time[Gyr]             z\n",
       "139    0.477443  9.954491e+00\n",
       "225    0.767008  6.983808e+00\n",
       "275    0.935360  5.992851e+00\n",
       "640    2.164327  2.984615e+00\n",
       "974    3.288917  1.999371e+00\n",
       "1024   3.457268  1.898475e+00\n",
       "1269   4.282192  1.499938e+00\n",
       "1280   4.319229  1.484975e+00\n",
       "1408   4.750210  1.324819e+00\n",
       "1740   5.868065  9.997720e-01\n",
       "2048   6.905111  7.749321e-01\n",
       "2088   7.039793  7.495550e-01\n",
       "2432   8.198053  5.582624e-01\n",
       "2688   9.060013  4.405243e-01\n",
       "2816   9.490994  3.877107e-01\n",
       "2944   9.921974  3.383115e-01\n",
       "3072  10.352954  2.919508e-01\n",
       "3195  10.767100  2.499659e-01\n",
       "3200  10.783935  2.483087e-01\n",
       "3328  11.214915  2.071111e-01\n",
       "3456  11.645896  1.681224e-01\n",
       "3584  12.076876  1.311380e-01\n",
       "3606  12.150951  1.249698e-01\n",
       "3712  12.507856  9.598009e-02\n",
       "3840  12.938837  6.249300e-02\n",
       "3968  13.369817  3.053989e-02\n",
       "4096  13.800797  5.299428e-11"
      ]
     },
     "execution_count": 16,
     "metadata": {},
     "output_type": "execute_result"
    }
   ],
   "source": [
    "time"
   ]
  },
  {
   "cell_type": "code",
   "execution_count": null,
   "metadata": {
    "collapsed": true
   },
   "outputs": [],
   "source": []
  }
 ],
 "metadata": {
  "kernelspec": {
   "display_name": "Python 2",
   "language": "python",
   "name": "python2"
  },
  "language_info": {
   "codemirror_mode": {
    "name": "ipython",
    "version": 2
   },
   "file_extension": ".py",
   "mimetype": "text/x-python",
   "name": "python",
   "nbconvert_exporter": "python",
   "pygments_lexer": "ipython2",
   "version": "2.7.13"
  }
 },
 "nbformat": 4,
 "nbformat_minor": 2
}
