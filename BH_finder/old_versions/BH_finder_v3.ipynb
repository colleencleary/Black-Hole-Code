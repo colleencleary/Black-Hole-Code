{
 "cells": [
  {
   "cell_type": "code",
   "execution_count": 1,
   "metadata": {
    "collapsed": true
   },
   "outputs": [],
   "source": [
    "import pynbody\n",
    "import matplotlib.pylab as plt\n",
    "import numpy as np\n",
    "import pandas as pd\n",
    "from sklearn.preprocessing import scale\n",
    "\n",
    "%matplotlib inline"
   ]
  },
  {
   "cell_type": "code",
   "execution_count": 2,
   "metadata": {
    "collapsed": true
   },
   "outputs": [],
   "source": [
    "def loader(path):\n",
    "    '''returns snapshot and halo'''\n",
    "    snap=pynbody.load(path)\n",
    "    snap.physical_units()\n",
    "    h=snap.halos()\n",
    "    return snap,h\n",
    "\n",
    "def BH_finder(snap):\n",
    "    '''returns subsnap of black holes'''\n",
    "    return snap.star[pynbody.filt.BandPass('tform','-15 Gyr','0 Gyr')]\n",
    "\n",
    "def analysis(halo, view):\n",
    "    '''center snap on halo's center of mass (angmom gives errors if there aren't enough pixels)'''\n",
    "    if view==1:\n",
    "        pynbody.analysis.angmom.faceon(halo)\n",
    "    elif view==2:\n",
    "        pynbody.analysis.angmom.sideon(halo)\n",
    "    else:\n",
    "        pynbody.analysis.halo.center(halo)\n",
    "        \n",
    "def plot_BH_pos(h, BH, grpid, attribute, cmap='Greys', w=100, save=False, snapshot=4096, view=0):\n",
    "    '''plots position of black holes. Send halo array(h), black hole array(BH), grpid, and attribute you want to plot \n",
    "    Optional: width/preferred scope(w) (default=100), colormap(default='Greys'), save(default=False), snapshot(default=4096)'''\n",
    "    \n",
    "    pynbody.plot.image(h[grpid].s,qty=attribute,cmap=cmap, width=w, log=False)\n",
    "    plt.plot(np.array((BH[np.where(BH['amiga.grp']==grpid)]['pos'])).T[0],np.array((BH[np.where(BH['amiga.grp']==grpid)]['pos'])).T[1],'r+')\n",
    "    plt.xlim(-w/2,w/2)\n",
    "    plt.ylim(-w/2,w/2)\n",
    "    plt.title('%s_h%s_%s_w%s'%(snapshot, grpid, attribute, w))\n",
    "    \n",
    "    if save==True:\n",
    "        plt.savefig('plots/%s/h%s/h148_h%s_%s_w%s.png'%(snapshot, grpid, grpid, attribute, w))\n",
    "    plt.show()"
   ]
  },
  {
   "cell_type": "code",
   "execution_count": 3,
   "metadata": {
    "collapsed": true
   },
   "outputs": [],
   "source": [
    "#returns snapshot and halos in physical units (takes a couple of minutes)\n",
    "snap,h=loader('/data/scratch/jillian/h148/h148.cosmo50PLK.3072g3HbwK1BH.004096/h148.cosmo50PLK.3072g3HbwK1BH.004096')"
   ]
  },
  {
   "cell_type": "code",
   "execution_count": 4,
   "metadata": {
    "collapsed": true
   },
   "outputs": [],
   "source": [
    "#halo id for halo of interest\n",
    "grpid=1\n",
    "snap_id=4096"
   ]
  },
  {
   "cell_type": "code",
   "execution_count": 5,
   "metadata": {},
   "outputs": [],
   "source": [
    "#angle of perspective (maybe?): 1 for face on, 2 for side on, anything else will leave it as is\n",
    "view=2\n",
    "analysis(h[grpid],view)"
   ]
  },
  {
   "cell_type": "code",
   "execution_count": null,
   "metadata": {
    "collapsed": true
   },
   "outputs": [],
   "source": [
    "#Optional: convert units\n",
    "h[grpid].s['tform'].convert_units('Gyr')"
   ]
  },
  {
   "cell_type": "code",
   "execution_count": 6,
   "metadata": {},
   "outputs": [],
   "source": [
    "#returns subsnap of black holes\n",
    "BH=BH_finder(snap)"
   ]
  },
  {
   "cell_type": "code",
   "execution_count": null,
   "metadata": {
    "collapsed": true
   },
   "outputs": [],
   "source": [
    "#plot location of black holes\n",
    "plot_BH_pos(h, BH, grpid, attribute='tform')"
   ]
  },
  {
   "cell_type": "code",
   "execution_count": null,
   "metadata": {},
   "outputs": [],
   "source": []
  },
  {
   "cell_type": "code",
   "execution_count": null,
   "metadata": {
    "collapsed": true
   },
   "outputs": [],
   "source": []
  },
  {
   "cell_type": "code",
   "execution_count": 25,
   "metadata": {},
   "outputs": [],
   "source": [
    "#create array for each halo to store masses at each snap\n",
    "#h1_mass=pynbody.array.SimArray([], 'Msol')\n",
    "#h1_mass['Gas', 'Star', 'Total']=h[grpid].g['mass'].sum(),h[grpid].s['mass'].sum(), h[grpid]['mass'].sum()"
   ]
  },
  {
   "cell_type": "code",
   "execution_count": 26,
   "metadata": {
    "collapsed": true
   },
   "outputs": [],
   "source": [
    "h1_mass_pd=pd.DataFrame(index=['4096'], columns=['Gas','Star','Total'])"
   ]
  },
  {
   "cell_type": "code",
   "execution_count": 27,
   "metadata": {
    "collapsed": true
   },
   "outputs": [],
   "source": [
    "h1_mass_pd['Gas']['4096']=h[grpid].g['mass'].sum()\n",
    "h1_mass_pd['Star']['4096']=h[grpid].s['mass'].sum()\n",
    "h1_mass_pd['Total']['4096']=h[grpid]['mass'].sum()"
   ]
  },
  {
   "cell_type": "code",
   "execution_count": 28,
   "metadata": {},
   "outputs": [
    {
     "data": {
      "text/html": [
       "<div>\n",
       "<style>\n",
       "    .dataframe thead tr:only-child th {\n",
       "        text-align: right;\n",
       "    }\n",
       "\n",
       "    .dataframe thead th {\n",
       "        text-align: left;\n",
       "    }\n",
       "\n",
       "    .dataframe tbody tr th {\n",
       "        vertical-align: top;\n",
       "    }\n",
       "</style>\n",
       "<table border=\"1\" class=\"dataframe\">\n",
       "  <thead>\n",
       "    <tr style=\"text-align: right;\">\n",
       "      <th></th>\n",
       "      <th>Gas</th>\n",
       "      <th>Star</th>\n",
       "      <th>Total</th>\n",
       "    </tr>\n",
       "  </thead>\n",
       "  <tbody>\n",
       "    <tr>\n",
       "      <th>4096</th>\n",
       "      <td>1.67460004583e+11</td>\n",
       "      <td>1.88270265251e+11</td>\n",
       "      <td>2.10912325919e+12</td>\n",
       "    </tr>\n",
       "  </tbody>\n",
       "</table>\n",
       "</div>"
      ],
      "text/plain": [
       "                    Gas               Star              Total\n",
       "4096  1.67460004583e+11  1.88270265251e+11  2.10912325919e+12"
      ]
     },
     "execution_count": 28,
     "metadata": {},
     "output_type": "execute_result"
    }
   ],
   "source": [
    "h1_mass_pd"
   ]
  },
  {
   "cell_type": "code",
   "execution_count": null,
   "metadata": {},
   "outputs": [],
   "source": []
  },
  {
   "cell_type": "code",
   "execution_count": 39,
   "metadata": {},
   "outputs": [],
   "source": [
    "x=pynbody.array.SimArray(h1_mass_pd, 'Msol')"
   ]
  },
  {
   "cell_type": "code",
   "execution_count": 36,
   "metadata": {},
   "outputs": [
    {
     "data": {
      "text/plain": [
       "(1, 3)"
      ]
     },
     "execution_count": 36,
     "metadata": {},
     "output_type": "execute_result"
    }
   ],
   "source": [
    "np.array(h1_mass_pd).shape"
   ]
  },
  {
   "cell_type": "code",
   "execution_count": 42,
   "metadata": {},
   "outputs": [
    {
     "data": {
      "text/plain": [
       "SimArray([[SimArray(167460004582.71896, 'Msol')],\n",
       "       [SimArray(188270265250.5389, 'Msol')],\n",
       "       [SimArray(2109123259192.6453, 'Msol')]], dtype=object, 'Msol')"
      ]
     },
     "execution_count": 42,
     "metadata": {},
     "output_type": "execute_result"
    }
   ],
   "source": [
    "x.T"
   ]
  },
  {
   "cell_type": "code",
   "execution_count": 44,
   "metadata": {},
   "outputs": [
    {
     "data": {
      "text/plain": [
       "SimArray([SimArray(167460004582.71896, 'Msol'),\n",
       "       SimArray(188270265250.5389, 'Msol'),\n",
       "       SimArray(2109123259192.6453, 'Msol')], dtype=object, 'Msol')"
      ]
     },
     "execution_count": 44,
     "metadata": {},
     "output_type": "execute_result"
    }
   ],
   "source": [
    "x[0]"
   ]
  },
  {
   "cell_type": "code",
   "execution_count": 46,
   "metadata": {},
   "outputs": [
    {
     "data": {
      "text/plain": [
       "4096    1.67460004583e+11\n",
       "Name: Gas, dtype: object"
      ]
     },
     "execution_count": 46,
     "metadata": {},
     "output_type": "execute_result"
    }
   ],
   "source": [
    "h1_mass_pd['Gas']"
   ]
  },
  {
   "cell_type": "code",
   "execution_count": null,
   "metadata": {
    "collapsed": true
   },
   "outputs": [],
   "source": []
  }
 ],
 "metadata": {
  "kernelspec": {
   "display_name": "Python 2",
   "language": "python",
   "name": "python2"
  },
  "language_info": {
   "codemirror_mode": {
    "name": "ipython",
    "version": 2
   },
   "file_extension": ".py",
   "mimetype": "text/x-python",
   "name": "python",
   "nbconvert_exporter": "python",
   "pygments_lexer": "ipython2",
   "version": "2.7.13"
  }
 },
 "nbformat": 4,
 "nbformat_minor": 2
}
